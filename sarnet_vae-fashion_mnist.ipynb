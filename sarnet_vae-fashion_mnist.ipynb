{
 "cells": [
  {
   "cell_type": "markdown",
   "metadata": {},
   "source": [
    "# Setup"
   ]
  },
  {
   "cell_type": "markdown",
   "metadata": {},
   "source": [
    "### Imports"
   ]
  },
  {
   "cell_type": "code",
   "execution_count": 9,
   "metadata": {},
   "outputs": [
    {
     "name": "stderr",
     "output_type": "stream",
     "text": [
      "2024-06-17 11:54:51.288286: E external/local_xla/xla/stream_executor/cuda/cuda_dnn.cc:9261] Unable to register cuDNN factory: Attempting to register factory for plugin cuDNN when one has already been registered\n",
      "2024-06-17 11:54:51.288341: E external/local_xla/xla/stream_executor/cuda/cuda_fft.cc:607] Unable to register cuFFT factory: Attempting to register factory for plugin cuFFT when one has already been registered\n",
      "2024-06-17 11:54:51.293244: E external/local_xla/xla/stream_executor/cuda/cuda_blas.cc:1515] Unable to register cuBLAS factory: Attempting to register factory for plugin cuBLAS when one has already been registered\n",
      "2024-06-17 11:54:51.314215: I tensorflow/core/platform/cpu_feature_guard.cc:182] This TensorFlow binary is optimized to use available CPU instructions in performance-critical operations.\n",
      "To enable the following instructions: AVX2 FMA, in other operations, rebuild TensorFlow with the appropriate compiler flags.\n",
      "2024-06-17 11:54:53.253631: W tensorflow/compiler/tf2tensorrt/utils/py_utils.cc:38] TF-TRT Warning: Could not find TensorRT\n"
     ]
    }
   ],
   "source": [
    "import copy\n",
    "from tqdm import tqdm\n",
    "\n",
    "import matplotlib.pyplot as plt\n",
    "import numpy as np\n",
    "\n",
    "from torch.utils.data import DataLoader, TensorDataset\n",
    "import tensorflow as tf\n",
    "from tensorflow_gan.examples.mnist.util import mnist_frechet_distance\n",
    "\n",
    "from src.sarnet_vae import *\n",
    "from src.semidense import *"
   ]
  },
  {
   "cell_type": "markdown",
   "metadata": {},
   "source": [
    "### Config\n",
    "- set a particural digit to reconstruct"
   ]
  },
  {
   "cell_type": "code",
   "execution_count": 10,
   "metadata": {},
   "outputs": [],
   "source": [
    "DIGIT = 5\n",
    "image_dim = 28\n",
    "n_pixels = image_dim * image_dim"
   ]
  },
  {
   "cell_type": "markdown",
   "metadata": {},
   "source": [
    "### Data loading\n",
    "\n",
    "- Load images from the FashionMNIST dataset and scale them to range [0-1]"
   ]
  },
  {
   "cell_type": "code",
   "execution_count": 1,
   "metadata": {},
   "outputs": [
    {
     "name": "stdout",
     "output_type": "stream",
     "text": [
      "Downloading http://fashion-mnist.s3-website.eu-central-1.amazonaws.com/train-images-idx3-ubyte.gz\n",
      "Downloading http://fashion-mnist.s3-website.eu-central-1.amazonaws.com/train-images-idx3-ubyte.gz to ./data/FashionMNIST/raw/train-images-idx3-ubyte.gz\n"
     ]
    },
    {
     "name": "stderr",
     "output_type": "stream",
     "text": [
      "100%|██████████| 26421880/26421880 [00:04<00:00, 6301680.48it/s]\n"
     ]
    },
    {
     "name": "stdout",
     "output_type": "stream",
     "text": [
      "Extracting ./data/FashionMNIST/raw/train-images-idx3-ubyte.gz to ./data/FashionMNIST/raw\n",
      "\n",
      "Downloading http://fashion-mnist.s3-website.eu-central-1.amazonaws.com/train-labels-idx1-ubyte.gz\n",
      "Downloading http://fashion-mnist.s3-website.eu-central-1.amazonaws.com/train-labels-idx1-ubyte.gz to ./data/FashionMNIST/raw/train-labels-idx1-ubyte.gz\n"
     ]
    },
    {
     "name": "stderr",
     "output_type": "stream",
     "text": [
      "100%|██████████| 29515/29515 [00:00<00:00, 420720.43it/s]\n"
     ]
    },
    {
     "name": "stdout",
     "output_type": "stream",
     "text": [
      "Extracting ./data/FashionMNIST/raw/train-labels-idx1-ubyte.gz to ./data/FashionMNIST/raw\n",
      "\n",
      "Downloading http://fashion-mnist.s3-website.eu-central-1.amazonaws.com/t10k-images-idx3-ubyte.gz\n",
      "Downloading http://fashion-mnist.s3-website.eu-central-1.amazonaws.com/t10k-images-idx3-ubyte.gz to ./data/FashionMNIST/raw/t10k-images-idx3-ubyte.gz\n"
     ]
    },
    {
     "name": "stderr",
     "output_type": "stream",
     "text": [
      "100%|██████████| 4422102/4422102 [00:01<00:00, 3006251.55it/s]\n"
     ]
    },
    {
     "name": "stdout",
     "output_type": "stream",
     "text": [
      "Extracting ./data/FashionMNIST/raw/t10k-images-idx3-ubyte.gz to ./data/FashionMNIST/raw\n",
      "\n",
      "Downloading http://fashion-mnist.s3-website.eu-central-1.amazonaws.com/t10k-labels-idx1-ubyte.gz\n",
      "Downloading http://fashion-mnist.s3-website.eu-central-1.amazonaws.com/t10k-labels-idx1-ubyte.gz to ./data/FashionMNIST/raw/t10k-labels-idx1-ubyte.gz\n"
     ]
    },
    {
     "name": "stderr",
     "output_type": "stream",
     "text": [
      "100%|██████████| 5148/5148 [00:00<00:00, 10014970.78it/s]"
     ]
    },
    {
     "name": "stdout",
     "output_type": "stream",
     "text": [
      "Extracting ./data/FashionMNIST/raw/t10k-labels-idx1-ubyte.gz to ./data/FashionMNIST/raw\n",
      "\n"
     ]
    },
    {
     "name": "stderr",
     "output_type": "stream",
     "text": [
      "\n"
     ]
    }
   ],
   "source": [
    "import torchvision\n",
    "import torchvision.transforms as transforms\n",
    "\n",
    "transform = transforms.Compose(\n",
    "    [transforms.ToTensor()]\n",
    ")\n",
    "training_set = torchvision.datasets.FashionMNIST(\n",
    "    \"./data\", train=True, transform=transform, download=True\n",
    ")\n",
    "test_set = torchvision.datasets.FashionMNIST(\n",
    "    \"./data\", train=False, transform=transform, download=True\n",
    ")"
   ]
  },
  {
   "cell_type": "code",
   "execution_count": 46,
   "metadata": {},
   "outputs": [],
   "source": [
    "images = []\n",
    "test_images = []\n",
    "for i in training_set:\n",
    "    images.append(i[0].numpy())\n",
    "\n",
    "for i in test_set:\n",
    "    test_images.append(i[0].numpy())\n",
    "\n",
    "test_images = np.array(test_images).reshape(-1, 28, 28)\n",
    "images = np.array(images).reshape(-1, 28, 28)\n",
    "\n",
    "# Raw data\n",
    "raw_data = images\n",
    "raw_test_data = test_images\n",
    "\n",
    "# Standarized data\n",
    "standarized_data = images #/ 255\n",
    "standarized_test_data = test_images #/ 255"
   ]
  },
  {
   "cell_type": "code",
   "execution_count": 12,
   "metadata": {},
   "outputs": [],
   "source": [
    "# loading the entire mnist dataset\n",
    "'''# Load train images\n",
    "images = np.load(\"./data/train_images.npy\")\n",
    "labels = np.load(\"./data/train_labels.npy\")\n",
    "#images = images[labels == DIGIT]\n",
    "\n",
    "# Load test images\n",
    "test_images = np.load(\"./data/test_images.npy\")\n",
    "test_labels = np.load(\"./data/test_labels.npy\")\n",
    "#test_images = test_images[test_labels == DIGIT]\n",
    "\n",
    "# Raw data\n",
    "raw_data = images\n",
    "raw_test_data = test_images\n",
    "\n",
    "# Standarized data\n",
    "standarized_data = images / 255\n",
    "standarized_test_data = test_images / 255'''"
   ]
  },
  {
   "cell_type": "code",
   "execution_count": 15,
   "metadata": {},
   "outputs": [],
   "source": [
    "def prepare_dataset(train_data, test_data, batch_size=64, device=\"cuda\"):\n",
    "    \"\"\"Create torch dataloader from the numpy data.\n",
    "\n",
    "    Parameters\n",
    "    ----------\n",
    "    train_data : numpy.ndarray\n",
    "        The training data.\n",
    "    test_data : numpy.ndarray\n",
    "        The testing data.\n",
    "    batch_size : int, optional\n",
    "        The batch size for the DataLoader (default is 64).\n",
    "    device : str, optional\n",
    "        The device on which the data will be moved (default is cuda).\n",
    "\n",
    "    Returns\n",
    "    -------\n",
    "    train_loader : torch.utils.data.DataLoader\n",
    "        DataLoader object for the training data with tensors of shape (1,image_dim,image_dim).\n",
    "    test_loader : torch.utils.data.DataLoader\n",
    "        DataLoader object for the testing data with tensors of shape (1,image_dim,image_dim).\n",
    "    \"\"\"\n",
    "    X = train_data.reshape(-1, 1, image_dim, image_dim)\n",
    "    X = torch.tensor(X).float().to(device)\n",
    "    train_loader = DataLoader(TensorDataset(X), batch_size=64, shuffle=True)\n",
    "\n",
    "    X_test = test_data.reshape(-1, 1, image_dim, image_dim)\n",
    "    X_test = torch.tensor(X_test).float().to(device)\n",
    "    test_loader = DataLoader(\n",
    "        TensorDataset(X_test), batch_size=batch_size, shuffle=False\n",
    "    )\n",
    "\n",
    "    return train_loader, test_loader"
   ]
  },
  {
   "cell_type": "markdown",
   "metadata": {},
   "source": [
    "### Image generation\n",
    "\n",
    " - the function below generates an image (or multiple images in parallel) using a `sarNET_VAE` model. It can generate an image from scratch (starting with a black patch) or continue generating from a part of existing image.\n",
    "\n",
    " - First, it generates a latent space random vector, which defines the style of the image. Next, it generates the image (or a batch of images) patch by patch. The random vector can be modified to have less variance, resulting in output digits that are \"sharper\" but less diverse.\n",
    "\n",
    "- To stabilize generation process, it blacks out the pixels below a certain threshold - typically, the pixels below a small constant ~0.09 are set to black."
   ]
  },
  {
   "cell_type": "code",
   "execution_count": 19,
   "metadata": {},
   "outputs": [],
   "source": [
    "def get_i_patch(patch_idx, patch_dim, img_size):\n",
    "    \"\"\"\n",
    "    Get the pixel indices of a specific patch in the image.\n",
    "    \"\"\"\n",
    "    row = patch_idx // (img_size // patch_dim)\n",
    "    col = patch_idx % (img_size // patch_dim)\n",
    "    pxl_idxs = [\n",
    "        (row * patch_dim + p_y) * img_size + col * patch_dim + p_x\n",
    "        for p_y in range(patch_dim)\n",
    "        for p_x in range(patch_dim)\n",
    "    ]\n",
    "    return pxl_idxs\n",
    "\n",
    "\n",
    "def init_image(patch_dim, image=None, pixels_seed=0):\n",
    "    \"\"\"\n",
    "    Initialize an image by setting specific patches to zero.\n",
    "    One can use a specific image as a seed to further generation.\n",
    "    \"\"\"\n",
    "    patch_size = patch_dim**2\n",
    "    patches = n_pixels // patch_size\n",
    "\n",
    "    if image is None:\n",
    "        start_image = np.zeros(n_pixels)\n",
    "        indexes_of_patches = list(range(patches - 1))\n",
    "    else:\n",
    "        start_image = copy.deepcopy(image).reshape(n_pixels)\n",
    "\n",
    "        assert pixels_seed % patch_size == 0\n",
    "        indexes_of_patches = list(\n",
    "            range((pixels_seed // patch_size - 1), patches - 1)\n",
    "        )\n",
    "        for i_p in indexes_of_patches:\n",
    "            idxs = get_i_patch(i_p + 1, patch_dim, image_dim)\n",
    "            start_image[idxs] = 0\n",
    "\n",
    "    return start_image, indexes_of_patches\n",
    "\n",
    "\n",
    "def plot_image(image, show_plot=True):\n",
    "    \"\"\"\n",
    "    Plot an image.\n",
    "    \"\"\"\n",
    "    plt.imshow(image.reshape(28, 28), cmap=\"gray\")\n",
    "    if show_plot:\n",
    "        plt.show()"
   ]
  },
  {
   "cell_type": "code",
   "execution_count": 20,
   "metadata": {},
   "outputs": [],
   "source": [
    "def generate_image(\n",
    "    model,\n",
    "    patch_dim,\n",
    "    latent_dim=10,\n",
    "    image=None,\n",
    "    pixels_seed=0,\n",
    "    th=0,\n",
    "    plot=True,\n",
    "    num_of_images=1,\n",
    "    cust_z=None,\n",
    "    device=\"cuda\",\n",
    "):\n",
    "    \"\"\"\n",
    "    Generate an image (or multiplie images - num_of_images) using a regression sarnet_vae model.\n",
    "\n",
    "    Parameters\n",
    "    ----------\n",
    "    model : nn.Module\n",
    "        The sarnet_vae model used for generating the image.\n",
    "    patch_dim : int\n",
    "        The dimension of the patches to process.\n",
    "    latent_dim : int, optional\n",
    "        The dimension of the latent space (default is 10).\n",
    "    image : numpy.ndarray, optional\n",
    "        The initial image to be used as a base for generation. If None, a blank image is used.\n",
    "    pixels_seed : int, optional\n",
    "        Only applicable if image is not None and num_of_images=1. It's the number of pixels from the base image used as a seed for generation.\n",
    "    th : float, optional\n",
    "        The threshold for pixel values (default is 0).\n",
    "    plot : bool, optional\n",
    "        Whether to plot the generated image (default is True).\n",
    "    num_of_images : int, optional\n",
    "        The number of images for parallel generation (default is 1).\n",
    "    cust_z : torch.Tensor, optional\n",
    "        Custom latent vector to be used for generation. If None, a random vector is generated.\n",
    "    device : str, optional\n",
    "        The device of the latent vector to be moved on\n",
    "        \n",
    "    Returns\n",
    "    -------\n",
    "    numpy.ndarray\n",
    "        The generated image as a numpy array.\n",
    "    \"\"\"\n",
    "\n",
    "    # Initialize the image and get the indexes of patches to process\n",
    "    start_image, indexes_of_patches = init_image(patch_dim, image=image, pixels_seed=pixels_seed)\n",
    "    start_image = start_image.reshape(1, image_dim * image_dim)\n",
    "    start_image = np.repeat(start_image, num_of_images, axis=0)\n",
    "\n",
    "    if cust_z is not None:\n",
    "        z = cust_z\n",
    "    else:\n",
    "        z = torch.randn(num_of_images, latent_dim).to(device)\n",
    "\n",
    "    min_pixel, min_th = 0, th\n",
    "\n",
    "    # Iterate over the patches to generate the image\n",
    "    for idx in indexes_of_patches:\n",
    "        patch_idxs = get_i_patch(idx, patch_dim, image_dim)\n",
    "\n",
    "        X = start_image.reshape(num_of_images, 1, image_dim, image_dim)\n",
    "        X = torch.tensor(X).float().to(\"cuda\")\n",
    "\n",
    "        Y = model.decode(X, z)\n",
    "\n",
    "        Y = Y.to(\"cpu\").detach().numpy().reshape(num_of_images, -1)\n",
    "        patch_idxs = get_i_patch(idx + 1, patch_dim, image_dim)\n",
    "\n",
    "        Y = Y[:, patch_idxs]\n",
    "\n",
    "        Y[Y < min_th] = min_pixel\n",
    "\n",
    "        start_image[:, patch_idxs] = Y\n",
    "\n",
    "    start_image = start_image.reshape(num_of_images, image_dim, image_dim)\n",
    "\n",
    "    if plot:\n",
    "        plot_image(start_image, show_plot=False)\n",
    "\n",
    "    return start_image"
   ]
  },
  {
   "cell_type": "markdown",
   "metadata": {},
   "source": [
    "### Losses and metrics\n",
    "\n",
    "We calculate the Fréchet Inception Distance (FID) score between generated images and MNIST test images. We use `mnist_frechet_distance` function from the tensorflow_gan package. TF_GAN is widely used in projects and research at Google.\n",
    "\n",
    "Unlike the traditional FID calculation, `mnist_frechet_distance` doesn't use the InceptionV3 model. Instead, it uses the TF-GAN MNIST classifier, which has ~99% accuracy. This approach allows for quicker calculations. The function expects the input pixel values to be in the range [-1,1]."
   ]
  },
  {
   "cell_type": "code",
   "execution_count": null,
   "metadata": {},
   "outputs": [],
   "source": [
    "def get_fid_score_mnist(generated_images, N):\n",
    "    \"\"\"\n",
    "    Calculate the Fréchet Inception Distance (FID) score between generated images and MNIST test images.\n",
    "    \n",
    "    Parameters\n",
    "    ----------\n",
    "    generated_images : list, numpy.ndarray or torch.tensor\n",
    "        The generated images to be evaluated. Should be a iterable list of images with shape (N, 28, 28).\n",
    "    N : int\n",
    "        The number of images to be used for calculating the FID score.\n",
    "\n",
    "    Returns\n",
    "    -------\n",
    "    float\n",
    "        The FID score between the generated images and the real MNIST test images.\n",
    "    \"\"\"\n",
    "\n",
    "    # Select N real images from the standardized MNIST test data\n",
    "    real_images = standarized_test_data.reshape(-1, 1, 28, 28)\n",
    "    real_images = real_images[np.random.choice(real_images.shape[0], N)]\n",
    "\n",
    "    # Scale images to [-1, 1] range -> this is the range of pixels the \"mnist_frechet_distance\" expects\n",
    "    real_images = (\n",
    "        real_images.reshape(-1, 1, 28, 28).transpose(0, 2, 3, 1) - 0.5\n",
    "    ) * 2\n",
    "    real_images = tf.convert_to_tensor(real_images, dtype=tf.float32)\n",
    "\n",
    "    # Prepare the generated images\n",
    "    # Scale images to [-1, 1] range -> this is the range of pixels the \"mnist_frechet_distance\" expects\n",
    "    gen_x = (\n",
    "        np.array(generated_images).reshape(-1, 1, 28, 28).transpose(0, 2, 3, 1)\n",
    "        - 0.5\n",
    "    ) * 2\n",
    "    gen_x = tf.convert_to_tensor(gen_x, dtype=tf.float32)\n",
    "\n",
    "    # Calculate the number of batches for the FID computation\n",
    "    num_batches = int(np.ceil(N / 500))\n",
    "    num_batches = max(1, num_batches)\n",
    "    score = mnist_frechet_distance(real_images, gen_x, num_batches)\n",
    "\n",
    "    return score"
   ]
  },
  {
   "cell_type": "code",
   "execution_count": null,
   "metadata": {},
   "outputs": [],
   "source": [
    "# Define the loss function\n",
    "def vae_loss_function(recon_x, x, mu, logvar, vae_model):\n",
    "    KLD = -0.5 * torch.sum(1 + logvar - mu.pow(2) - logvar.exp())\n",
    "    return KLD + vae_model.decoder.loss(recon_x, x)\n",
    "\n",
    "def compute_vae_error(model, test_loader, loss, loss_to_monitor):\n",
    "    loss_sum = 0\n",
    "    monitored_loss = 0\n",
    "    with torch.no_grad():\n",
    "        for x in test_loader:\n",
    "            x = x[0].reshape(x[0].size(0), 1, image_dim, image_dim)\n",
    "\n",
    "            recon_batch, mu, logvar = model(x)\n",
    "            l = loss(recon_batch, x, mu, logvar, model)\n",
    "            monitored_loss += loss_to_monitor(recon_batch, x)\n",
    "            loss_sum += l\n",
    "\n",
    "    print(f\"Overall loss: {loss_sum / len(test_loader.dataset)}, Monitored loss: {monitored_loss / len(test_loader)}\")\n",
    "    return loss_sum / len(test_loader)"
   ]
  },
  {
   "cell_type": "markdown",
   "metadata": {},
   "source": [
    "# Architecture"
   ]
  },
  {
   "cell_type": "markdown",
   "metadata": {},
   "source": [
    "### SemiDense\n",
    "The core of SarNET is a sparse linear layer. It is designed so that, except for the first neuron, each pixel/patch in the input is connected to the neurons corresponding to the subsequent pixel/patches. Additionaly, one can add connections from all the output neurons to the input latent vector.\n",
    "\n",
    "The SemiDense layer takes a flattened image as input and processes it pixel by pixel or patch by patch (depending on the configuration). The patches are subsequent squares of the image and do not overlap. The layer can be configured in two ways:\n",
    "\n",
    "- the 0-th output patch depends on the 0-th input patch, and the i-th output patch (for i>0) depends on the 0,...,(i-1)-th input patches (used in the first layer)\n",
    "- the i-th output patch depends on the 0,...,i-th input patches (used in deeper layers)\n",
    "\n",
    "The image below illustrates the second configuration. As shown, the last input patch is not connected to any neurons because we want to predict the last output patch based on the previous ones.\n",
    "\n",
    "\n",
    "\n",
    "<img src=\"docs/SemiDense_graph.png\" alt=\"SemiDense Graph\" width=\"500\">\n",
    "\n",
    "The design allows us to feed the entire flattened image into a network and obtain an output image of the same size. There is no need to \"shift\" the sequence as in transformer models.\n",
    "\n",
    "To preserve the autoregressive nature of the layer, the number of output pixels/patches should be the same as the number of input pixels/patches. The size of the input patches can vary the size of the output patches. For example, we can compress the image from patches of size 4x4 to patches of size 2x2 or 1x1. Conversely, we can expand the size of the patch to, for example, 8x8. Additionally, we can add channels to the input and output images—the architecture remains the same, but instead of looking at/predicting the patch in a single channel, we look at/predict the patch in every channel.\n",
    "\n"
   ]
  },
  {
   "cell_type": "markdown",
   "metadata": {},
   "source": [
    "### sarNET VAE SemiDense Autoregressive Network Variational AutoEncoder\n",
    "\n",
    "- The SarNET VAE leverages the advantages of a Variational AutoEncoder to enhance the generation process. First, it organizes the latent space using a convolutional encoder. Then, it feeds the input image into a stack of SemiDense layers. Each of the SemiDense layers has additional connections to the latent vector produced by the convolutional encoder.\n",
    "\n",
    "- Within the stack of SemiDense layers, the first layer is of type 1, meaning that the 0-th output patch depends on the 0-th input patch, and the i-th output patch (for $i>0$) depends on the 0,...,(i-1)-th input patches. Subsequent layers are of type 2, where the i-th output patch depends on the 0-th to i-th input patches (used in deeper layers). We decided to use three SemiDense layers. The first one compresses the input patches, the second one generates the image, and the last one refines the output.\n",
    "\n",
    "<img src=\"docs/sarNET_VAE.png\" alt=\"SemiDense Graph\" width=\"500\">\n",
    "\n",
    "- The loss function consists of the KLD loss and the reconstruction loss, which is BCE. We use BCE because we are dealing with black and white images, so we can interpret the output probability as the pixel intensity.\n",
    "\n"
   ]
  },
  {
   "cell_type": "markdown",
   "metadata": {},
   "source": [
    "# Training (128 latent dim)"
   ]
  },
  {
   "cell_type": "code",
   "execution_count": 47,
   "metadata": {},
   "outputs": [],
   "source": [
    "# config\n",
    "patch_dim = 4\n",
    "device=\"cuda\""
   ]
  },
  {
   "cell_type": "code",
   "execution_count": 48,
   "metadata": {},
   "outputs": [],
   "source": [
    "latent_dim = 128\n",
    "in_latent_dim = 128\n",
    "\n",
    "hidden_channels_1 = 2\n",
    "hidden_channels_2 = 2\n",
    "hidden_img_size = image_dim // 2\n",
    "hidden_patch_size = patch_dim // 2\n",
    "\n",
    "seed = 1234\n",
    "torch.manual_seed(seed)\n",
    "np.random.seed(seed)\n",
    "\n",
    "layers = nn.Sequential(\n",
    "    SemiDense(image_dim, hidden_img_size, 1, hidden_channels_1, patch_dim, hidden_patch_size, shift=True, latent_dim=in_latent_dim),\n",
    "    nn.ReLU(),\n",
    "    SemiDense(hidden_img_size, image_dim, hidden_channels_1, hidden_channels_2, hidden_patch_size, patch_dim, shift=False, latent_dim=in_latent_dim),\n",
    "    nn.ReLU(),\n",
    "    SemiDense(image_dim, image_dim, hidden_channels_2, 1, patch_dim, patch_dim, shift=False, latent_dim=in_latent_dim),\n",
    "    nn.Sigmoid()\n",
    ")\n",
    "\n",
    "\n",
    "# Define the loss function\n",
    "def vae_loss_function(recon_x, x, mu, logvar, vae_model):\n",
    "    KLD = -0.5 * torch.sum(1 + logvar - mu.pow(2) - logvar.exp())\n",
    "    return KLD + vae_model.decoder.loss(recon_x, x)\n",
    "\n",
    "\n",
    "custom_loss = nn.MSELoss(reduction=\"mean\")\n",
    "bce_loss = nn.BCELoss(reduction=\"sum\")\n",
    "\n",
    "sarnet_vae = sarNet_VAE(layers, bce_loss, latent_dim, image_dim)\n",
    "sarnet_vae.to(device)\n",
    "optimizer = torch.optim.Adam(sarnet_vae.parameters(), lr=1e-3)\n",
    "train_loader, test_loader = prepare_dataset(\n",
    "    standarized_data, standarized_test_data, batch_size=256, device=device\n",
    ")"
   ]
  },
  {
   "cell_type": "code",
   "execution_count": 50,
   "metadata": {},
   "outputs": [
    {
     "name": "stdout",
     "output_type": "stream",
     "text": [
      "After epoch 1 avg_los: 269.768158057\n",
      "Overall loss: 249.2587432861328, Monitored loss: 0.02140939049422741\n",
      "After epoch 2 avg_los: 242.645825741\n",
      "Overall loss: 240.84132385253906, Monitored loss: 0.018628472462296486\n",
      "After epoch 3 avg_los: 237.171224325\n",
      "Overall loss: 237.4644012451172, Monitored loss: 0.017270024865865707\n",
      "After epoch 4 avg_los: 234.308237809\n",
      "Overall loss: 235.70616149902344, Monitored loss: 0.016554251313209534\n",
      "After epoch 5 avg_los: 232.430537712\n",
      "Overall loss: 233.7367401123047, Monitored loss: 0.015948547050356865\n",
      "After epoch 6 avg_los: 231.020268547\n",
      "Overall loss: 232.61904907226562, Monitored loss: 0.015583616681396961\n",
      "After epoch 7 avg_los: 229.908025977\n",
      "Overall loss: 231.75559997558594, Monitored loss: 0.015466195531189442\n",
      "After epoch 8 avg_los: 229.060456893\n",
      "Overall loss: 231.04327392578125, Monitored loss: 0.015200263820588589\n",
      "After epoch 9 avg_los: 228.359908423\n",
      "Overall loss: 230.43997192382812, Monitored loss: 0.015169796533882618\n",
      "After epoch 10 avg_los: 227.752855151\n",
      "Overall loss: 230.1044158935547, Monitored loss: 0.014945650473237038\n",
      "After epoch 11 avg_los: 227.246834611\n",
      "Overall loss: 229.701416015625, Monitored loss: 0.01485693920403719\n",
      "After epoch 12 avg_los: 226.783789030\n",
      "Overall loss: 229.40403747558594, Monitored loss: 0.014895115979015827\n",
      "After epoch 13 avg_los: 226.420354565\n",
      "Overall loss: 229.06979370117188, Monitored loss: 0.01471618004143238\n",
      "After epoch 14 avg_los: 226.078764681\n",
      "Overall loss: 228.73626708984375, Monitored loss: 0.014649241231381893\n",
      "After epoch 15 avg_los: 225.788227922\n",
      "Overall loss: 228.57546997070312, Monitored loss: 0.014545954763889313\n",
      "After epoch 16 avg_los: 225.491271110\n",
      "Overall loss: 228.41957092285156, Monitored loss: 0.014498971402645111\n",
      "After epoch 17 avg_los: 225.246022852\n",
      "Overall loss: 228.40289306640625, Monitored loss: 0.014454861171543598\n",
      "After epoch 18 avg_los: 225.031995654\n",
      "Overall loss: 228.16378784179688, Monitored loss: 0.014356880448758602\n",
      "After epoch 19 avg_los: 224.823705005\n",
      "Overall loss: 227.9763946533203, Monitored loss: 0.014262720942497253\n",
      "After epoch 20 avg_los: 224.621180697\n",
      "Overall loss: 227.80039978027344, Monitored loss: 0.014237414114177227\n",
      "After epoch 21 avg_los: 224.420697437\n",
      "Overall loss: 227.73513793945312, Monitored loss: 0.014330647885799408\n",
      "After epoch 22 avg_los: 224.269760628\n",
      "Overall loss: 227.7576446533203, Monitored loss: 0.014269709587097168\n"
     ]
    },
    {
     "ename": "KeyboardInterrupt",
     "evalue": "",
     "output_type": "error",
     "traceback": [
      "\u001b[0;31m---------------------------------------------------------------------------\u001b[0m",
      "\u001b[0;31mKeyboardInterrupt\u001b[0m                         Traceback (most recent call last)",
      "Cell \u001b[0;32mIn[50], line 15\u001b[0m\n\u001b[1;32m     12\u001b[0m loss \u001b[38;5;241m=\u001b[39m vae_loss_function(recon_batch, x, mu, logvar, model)\n\u001b[1;32m     14\u001b[0m \u001b[38;5;66;03m# Backward pass and optimize\u001b[39;00m\n\u001b[0;32m---> 15\u001b[0m \u001b[43mloss\u001b[49m\u001b[38;5;241;43m.\u001b[39;49m\u001b[43mbackward\u001b[49m\u001b[43m(\u001b[49m\u001b[43m)\u001b[49m\n\u001b[1;32m     16\u001b[0m optimizer\u001b[38;5;241m.\u001b[39mstep()\n\u001b[1;32m     17\u001b[0m avg_loss \u001b[38;5;241m+\u001b[39m\u001b[38;5;241m=\u001b[39m loss\u001b[38;5;241m.\u001b[39mitem()\n",
      "File \u001b[0;32m~/anaconda3/envs/transformer_env/lib/python3.10/site-packages/torch/_tensor.py:525\u001b[0m, in \u001b[0;36mTensor.backward\u001b[0;34m(self, gradient, retain_graph, create_graph, inputs)\u001b[0m\n\u001b[1;32m    515\u001b[0m \u001b[38;5;28;01mif\u001b[39;00m has_torch_function_unary(\u001b[38;5;28mself\u001b[39m):\n\u001b[1;32m    516\u001b[0m     \u001b[38;5;28;01mreturn\u001b[39;00m handle_torch_function(\n\u001b[1;32m    517\u001b[0m         Tensor\u001b[38;5;241m.\u001b[39mbackward,\n\u001b[1;32m    518\u001b[0m         (\u001b[38;5;28mself\u001b[39m,),\n\u001b[0;32m   (...)\u001b[0m\n\u001b[1;32m    523\u001b[0m         inputs\u001b[38;5;241m=\u001b[39minputs,\n\u001b[1;32m    524\u001b[0m     )\n\u001b[0;32m--> 525\u001b[0m \u001b[43mtorch\u001b[49m\u001b[38;5;241;43m.\u001b[39;49m\u001b[43mautograd\u001b[49m\u001b[38;5;241;43m.\u001b[39;49m\u001b[43mbackward\u001b[49m\u001b[43m(\u001b[49m\n\u001b[1;32m    526\u001b[0m \u001b[43m    \u001b[49m\u001b[38;5;28;43mself\u001b[39;49m\u001b[43m,\u001b[49m\u001b[43m \u001b[49m\u001b[43mgradient\u001b[49m\u001b[43m,\u001b[49m\u001b[43m \u001b[49m\u001b[43mretain_graph\u001b[49m\u001b[43m,\u001b[49m\u001b[43m \u001b[49m\u001b[43mcreate_graph\u001b[49m\u001b[43m,\u001b[49m\u001b[43m \u001b[49m\u001b[43minputs\u001b[49m\u001b[38;5;241;43m=\u001b[39;49m\u001b[43minputs\u001b[49m\n\u001b[1;32m    527\u001b[0m \u001b[43m\u001b[49m\u001b[43m)\u001b[49m\n",
      "File \u001b[0;32m~/anaconda3/envs/transformer_env/lib/python3.10/site-packages/torch/autograd/__init__.py:267\u001b[0m, in \u001b[0;36mbackward\u001b[0;34m(tensors, grad_tensors, retain_graph, create_graph, grad_variables, inputs)\u001b[0m\n\u001b[1;32m    262\u001b[0m     retain_graph \u001b[38;5;241m=\u001b[39m create_graph\n\u001b[1;32m    264\u001b[0m \u001b[38;5;66;03m# The reason we repeat the same comment below is that\u001b[39;00m\n\u001b[1;32m    265\u001b[0m \u001b[38;5;66;03m# some Python versions print out the first line of a multi-line function\u001b[39;00m\n\u001b[1;32m    266\u001b[0m \u001b[38;5;66;03m# calls in the traceback and some print out the last line\u001b[39;00m\n\u001b[0;32m--> 267\u001b[0m \u001b[43m_engine_run_backward\u001b[49m\u001b[43m(\u001b[49m\n\u001b[1;32m    268\u001b[0m \u001b[43m    \u001b[49m\u001b[43mtensors\u001b[49m\u001b[43m,\u001b[49m\n\u001b[1;32m    269\u001b[0m \u001b[43m    \u001b[49m\u001b[43mgrad_tensors_\u001b[49m\u001b[43m,\u001b[49m\n\u001b[1;32m    270\u001b[0m \u001b[43m    \u001b[49m\u001b[43mretain_graph\u001b[49m\u001b[43m,\u001b[49m\n\u001b[1;32m    271\u001b[0m \u001b[43m    \u001b[49m\u001b[43mcreate_graph\u001b[49m\u001b[43m,\u001b[49m\n\u001b[1;32m    272\u001b[0m \u001b[43m    \u001b[49m\u001b[43minputs\u001b[49m\u001b[43m,\u001b[49m\n\u001b[1;32m    273\u001b[0m \u001b[43m    \u001b[49m\u001b[43mallow_unreachable\u001b[49m\u001b[38;5;241;43m=\u001b[39;49m\u001b[38;5;28;43;01mTrue\u001b[39;49;00m\u001b[43m,\u001b[49m\n\u001b[1;32m    274\u001b[0m \u001b[43m    \u001b[49m\u001b[43maccumulate_grad\u001b[49m\u001b[38;5;241;43m=\u001b[39;49m\u001b[38;5;28;43;01mTrue\u001b[39;49;00m\u001b[43m,\u001b[49m\n\u001b[1;32m    275\u001b[0m \u001b[43m\u001b[49m\u001b[43m)\u001b[49m\n",
      "File \u001b[0;32m~/anaconda3/envs/transformer_env/lib/python3.10/site-packages/torch/autograd/graph.py:744\u001b[0m, in \u001b[0;36m_engine_run_backward\u001b[0;34m(t_outputs, *args, **kwargs)\u001b[0m\n\u001b[1;32m    742\u001b[0m     unregister_hooks \u001b[38;5;241m=\u001b[39m _register_logging_hooks_on_whole_graph(t_outputs)\n\u001b[1;32m    743\u001b[0m \u001b[38;5;28;01mtry\u001b[39;00m:\n\u001b[0;32m--> 744\u001b[0m     \u001b[38;5;28;01mreturn\u001b[39;00m \u001b[43mVariable\u001b[49m\u001b[38;5;241;43m.\u001b[39;49m\u001b[43m_execution_engine\u001b[49m\u001b[38;5;241;43m.\u001b[39;49m\u001b[43mrun_backward\u001b[49m\u001b[43m(\u001b[49m\u001b[43m  \u001b[49m\u001b[38;5;66;43;03m# Calls into the C++ engine to run the backward pass\u001b[39;49;00m\n\u001b[1;32m    745\u001b[0m \u001b[43m        \u001b[49m\u001b[43mt_outputs\u001b[49m\u001b[43m,\u001b[49m\u001b[43m \u001b[49m\u001b[38;5;241;43m*\u001b[39;49m\u001b[43margs\u001b[49m\u001b[43m,\u001b[49m\u001b[43m \u001b[49m\u001b[38;5;241;43m*\u001b[39;49m\u001b[38;5;241;43m*\u001b[39;49m\u001b[43mkwargs\u001b[49m\n\u001b[1;32m    746\u001b[0m \u001b[43m    \u001b[49m\u001b[43m)\u001b[49m  \u001b[38;5;66;03m# Calls into the C++ engine to run the backward pass\u001b[39;00m\n\u001b[1;32m    747\u001b[0m \u001b[38;5;28;01mfinally\u001b[39;00m:\n\u001b[1;32m    748\u001b[0m     \u001b[38;5;28;01mif\u001b[39;00m attach_logging_hooks:\n",
      "\u001b[0;31mKeyboardInterrupt\u001b[0m: "
     ]
    }
   ],
   "source": [
    "model = sarnet_vae\n",
    "max_epochs = 200\n",
    "\n",
    "for epoch in range(max_epochs):\n",
    "    model.train()\n",
    "    avg_loss = 0\n",
    "    for x in train_loader:\n",
    "        x = x[0].reshape(x[0].size(0), 1, 28, 28)\n",
    "        optimizer.zero_grad()\n",
    "\n",
    "        recon_batch, mu, logvar = model(x)\n",
    "        loss = vae_loss_function(recon_batch, x, mu, logvar, model)\n",
    "\n",
    "        # Backward pass and optimize\n",
    "        loss.backward()\n",
    "        optimizer.step()\n",
    "        avg_loss += loss.item()\n",
    "\n",
    "    avg_loss /= len(train_loader.dataset)\n",
    "\n",
    "    if (epoch + 1) % 1 == 0:\n",
    "        print(f\"After epoch {epoch+1} avg_los: {avg_loss:.9f}\")\n",
    "        test_loss = compute_vae_error(model, test_loader, vae_loss_function, custom_loss)\n",
    "\n",
    "        '''if (epoch + 1) > 10:# == 0:\n",
    "            model.eval()\n",
    "            generated_images = []\n",
    "            N = 10000\n",
    "            num_of_images = 500\n",
    "            for num in tqdm(range(0, N, num_of_images)):\n",
    "                img = generate_image(\n",
    "                    model,\n",
    "                    patch_dim,\n",
    "                    latent_dim=latent_dim,\n",
    "                    th=0.07,\n",
    "                    num_of_images=num_of_images,\n",
    "                    plot=False,\n",
    "                )\n",
    "\n",
    "                generated_images.append(img)\n",
    "\n",
    "            score = get_fid_score_mnist(generated_images, N)\n",
    "            if score < 1.45:\n",
    "                break\n",
    "            print(f\"FID\", score)'''"
   ]
  },
  {
   "cell_type": "markdown",
   "metadata": {},
   "source": [
    "# Evaluation\n",
    "\n",
    "Best score with vector 128 latent dim:\n",
    "- mean FID: 6.2803 and std: 0.135\n"
   ]
  },
  {
   "cell_type": "markdown",
   "metadata": {},
   "source": [
    "### Calculate the mean FID score in 10 experiments (latent dim 128)"
   ]
  },
  {
   "cell_type": "markdown",
   "metadata": {},
   "source": [
    "# Visualization"
   ]
  },
  {
   "cell_type": "markdown",
   "metadata": {},
   "source": [
    "### Generation from scratch"
   ]
  },
  {
   "cell_type": "code",
   "execution_count": 57,
   "metadata": {},
   "outputs": [
    {
     "name": "stderr",
     "output_type": "stream",
     "text": [
      "100%|██████████| 20/20 [00:01<00:00, 17.69it/s]\n"
     ]
    },
    {
     "data": {
      "image/png": "[encoded data removed]",
      "text/plain": [
       "<Figure size 640x480 with 20 Axes>"
      ]
     },
     "metadata": {},
     "output_type": "display_data"
    }
   ],
   "source": [
    "generated_imgs = []\n",
    "num_of_images = 20\n",
    "columns = 5\n",
    "rows = math.ceil(num_of_images / columns)\n",
    "\n",
    "np.random.seed(seed=20)\n",
    "for i in tqdm(range(num_of_images)):\n",
    "    plt.subplot(rows, columns, i + 1)\n",
    "    plt.axis(\"off\")\n",
    "    img = generate_image(\n",
    "        sarnet_vae,\n",
    "        patch_dim,\n",
    "        th = 0.05,\n",
    "        latent_dim=latent_dim\n",
    "    )\n",
    "    generated_imgs.append(img)\n",
    "\n",
    "plt.tight_layout()\n",
    "plt.show()"
   ]
  },
  {
   "cell_type": "markdown",
   "metadata": {},
   "source": [
    "### Reconstruction part of an image\n",
    "Here instead of using random latent vector from $N(0,1)$, we use \n",
    "random latent vector from $N(0, (\\frac{2}{3})^2)$"
   ]
  },
  {
   "cell_type": "code",
   "execution_count": 114,
   "metadata": {},
   "outputs": [
    {
     "data": {
      "image/png": "[encoded data removed]",
      "text/plain": [
       "<Figure size 640x480 with 2 Axes>"
      ]
     },
     "metadata": {},
     "output_type": "display_data"
    },
    {
     "name": "stderr",
     "output_type": "stream",
     "text": [
      "100%|██████████| 20/20 [00:01<00:00, 17.42it/s]\n"
     ]
    },
    {
     "data": {
      "image/png": "[encoded data removed]",
      "text/plain": [
       "<Figure size 640x480 with 20 Axes>"
      ]
     },
     "metadata": {},
     "output_type": "display_data"
    }
   ],
   "source": [
    "idx_r = 203\n",
    "to_reconstruct = standarized_test_data[idx_r]\n",
    "pixels_seed = 320\n",
    "plt.subplot(1, 2, 1)\n",
    "plt.imshow(to_reconstruct, cmap=\"gray\")\n",
    "start_image, indexes_of_patches = init_image(\n",
    "    patch_dim, to_reconstruct, pixels_seed=pixels_seed\n",
    ")\n",
    "plt.subplot(1, 2, 2)\n",
    "plt.imshow(start_image.reshape(28, 28), cmap=\"gray\")\n",
    "plt.show()\n",
    "\n",
    "generated_imgs = []\n",
    "num_of_images = 20\n",
    "columns = 5\n",
    "rows = math.ceil(num_of_images / columns)\n",
    "\n",
    "np.random.seed(seed=20)\n",
    "for i in tqdm(range(num_of_images)):\n",
    "    plt.subplot(rows, columns, i + 1)\n",
    "    plt.axis(\"off\")\n",
    "    img = generate_image(\n",
    "        sarnet_vae,\n",
    "        patch_dim,\n",
    "        image=to_reconstruct,\n",
    "        th=0.1,\n",
    "        pixels_seed=pixels_seed,\n",
    "        latent_dim=latent_dim,\n",
    "        cust_z=torch.randn(1, latent_dim).to(\"cuda\") / 1,\n",
    "    )\n",
    "    generated_imgs.append(img)\n",
    "\n",
    "plt.tight_layout()\n",
    "plt.show()"
   ]
  },
  {
   "cell_type": "markdown",
   "metadata": {},
   "source": [
    "# Patch importance (custom attention)\n",
    "\n",
    "In the first SemiDense layer of our models, we calculate the activations of neurons in specific patches to determine the importance of each patch at the input. We do this by taking the product of the pixels in a patch and the weights connected to that patch. Then, we sum the absolute values and interpret the outcome as the activation of the given patch at the input. By iterating over each patch, we can rank them based on their importance.\n"
   ]
  },
  {
   "cell_type": "code",
   "execution_count": 123,
   "metadata": {},
   "outputs": [],
   "source": [
    "def get_patches_importance(image, importance_checker, patch_num, top_k):\n",
    "    \"\"\"\n",
    "    Visualize the importance of patches in an image using the importance checker.\n",
    "\n",
    "    Parameters\n",
    "    ----------\n",
    "    image : numpy.ndarray\n",
    "        The input image as a numpy array.\n",
    "    importance_checker : SemiDenseImportance\n",
    "        An instance of the SemiDenseImportance class to check patch importance.\n",
    "    patch_num : int\n",
    "        The patch number for which to check importance.\n",
    "    top_k : int\n",
    "        The number of top important patches to visualize.\n",
    "\n",
    "    Returns\n",
    "    -------\n",
    "    None\n",
    "        This function displays a plot showing the importance of patches in the image.\n",
    "    \"\"\"\n",
    "\n",
    "    image = copy.deepcopy(image)\n",
    "    image_torch = (\n",
    "        torch.tensor(image.reshape(1, 1, image_dim, image_dim)).float().to(\"cuda\")\n",
    "    ).view(1, -1)\n",
    "    \n",
    "    z = torch.randn(1, latent_dim).to(device)\n",
    "    image_torch = torch.concat([image_torch, z], dim=1)\n",
    "    image = np.stack((image,) * 3, axis=-1)\n",
    "\n",
    "    important_patches = importance_checker.check_importance(patch_num, top_k, image_torch)\n",
    "\n",
    "    patch_idxs = get_i_patch(patch_num, patch_dim, image_dim)\n",
    "    image.reshape(-1, 3)[patch_idxs] = 1\n",
    "\n",
    "    # Prepare the colormap and values for the important patches\n",
    "    cmap = plt.cm.cool\n",
    "    values = []\n",
    "    for i in important_patches:\n",
    "        values.append(i[0])\n",
    "    norm = plt.Normalize(min(values), max(values))\n",
    "    values = norm(values)\n",
    "    colors = cmap(values)[:, :3]\n",
    "\n",
    "    # Color the important patches based on their importance\n",
    "    for i in range(len(important_patches)):\n",
    "        p_n = important_patches[i][1]\n",
    "        patch_idxs = get_i_patch(p_n, patch_dim, image_dim)\n",
    "        image.reshape(-1, 3)[patch_idxs] = colors[i]\n",
    "\n",
    "    # Plot the image with highlighted patches\n",
    "    # fig, ax = plt.subplots()\n",
    "    cax = plt.imshow(image, cmap=\"cool\")\n",
    "    # cbar = plt.colorbar(cax, ax=ax, norm=norm)\n",
    "    # cbar.set_label(\"Patch importance\")\n",
    "    # plt.title(f\"Patch importance for selected {patch_num} patch - colored as white\")\n",
    "    # plt.show()"
   ]
  },
  {
   "cell_type": "code",
   "execution_count": 144,
   "metadata": {},
   "outputs": [
    {
     "data": {
      "image/png": "[encoded data removed]",
      "text/plain": [
       "<Figure size 640x480 with 1 Axes>"
      ]
     },
     "metadata": {},
     "output_type": "display_data"
    }
   ],
   "source": [
    "from src.semidense_importance import SemiDenseImportance\n",
    "\n",
    "importance_checker = SemiDenseImportance(\n",
    "    image_dim,\n",
    "    image_dim // 2,\n",
    "    1,\n",
    "    hidden_channels_1,\n",
    "    patch_dim,\n",
    "    patch_dim // 2,\n",
    "    shift=True,\n",
    "    latent_dim=latent_dim,\n",
    "    inspected_layer=sarnet_vae.decoder.layers[0],\n",
    ")\n",
    "img_to_test = standarized_test_data[132]\n",
    "plt.imshow(img_to_test, cmap = \"gray\")\n",
    "plt.show()"
   ]
  },
  {
   "cell_type": "code",
   "execution_count": 145,
   "metadata": {},
   "outputs": [
    {
     "name": "stderr",
     "output_type": "stream",
     "text": [
      "100%|██████████| 20/20 [00:03<00:00,  5.25it/s]\n"
     ]
    },
    {
     "data": {
      "image/png": "[encoded data removed]",
      "text/plain": [
       "<Figure size 1000x1000 with 22 Axes>"
      ]
     },
     "metadata": {},
     "output_type": "display_data"
    }
   ],
   "source": [
    "import matplotlib as mpl\n",
    "\n",
    "num_of_images = 20\n",
    "columns = 5\n",
    "rows = math.ceil(num_of_images / columns)\n",
    "\n",
    "top_k = 5\n",
    "patches_nums = [ 2 + i * 2 for i in range(20) ]\n",
    "np.random.seed(seed=20)\n",
    "fig = plt.figure(figsize=(10,10))\n",
    "plt.title(f\"Patch importance for selected patches - colored as white\")\n",
    "plt.axis(\"off\")\n",
    "for i in tqdm(range(num_of_images)):\n",
    "    plt.subplot(rows + 1, columns, i + 1)\n",
    "    plt.axis(\"off\")\n",
    "    get_patches_importance(img_to_test, importance_checker, patches_nums[i], top_k)\n",
    "\n",
    "plt.tight_layout()\n",
    "ax = fig.add_axes([0.05,0.05, 0.9, 0.1])\n",
    "cb = mpl.colorbar.ColorbarBase(ax, orientation=\"horizontal\", cmap=\"cool\", label=\"Patch importance\")\n",
    "plt.show()"
   ]
  }
 ],
 "metadata": {
  "kernelspec": {
   "display_name": "transformer_env",
   "language": "python",
   "name": "python3"
  },
  "language_info": {
   "codemirror_mode": {
    "name": "ipython",
    "version": 3
   },
   "file_extension": ".py",
   "mimetype": "text/x-python",
   "name": "python",
   "nbconvert_exporter": "python",
   "pygments_lexer": "ipython3",
   "version": "3.10.14"
  }
 },
 "nbformat": 4,
 "nbformat_minor": 2
}

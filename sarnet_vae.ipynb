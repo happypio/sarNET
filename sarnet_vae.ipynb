{
 "cells": [
  {
   "cell_type": "markdown",
   "metadata": {},
   "source": [
    "# Setup"
   ]
  },
  {
   "cell_type": "markdown",
   "metadata": {},
   "source": [
    "### Imports"
   ]
  },
  {
   "cell_type": "code",
   "execution_count": 1,
   "metadata": {},
   "outputs": [
    {
     "name": "stderr",
     "output_type": "stream",
     "text": [
      "2024-06-07 13:40:41.804077: E external/local_xla/xla/stream_executor/cuda/cuda_dnn.cc:9261] Unable to register cuDNN factory: Attempting to register factory for plugin cuDNN when one has already been registered\n",
      "2024-06-07 13:40:41.804109: E external/local_xla/xla/stream_executor/cuda/cuda_fft.cc:607] Unable to register cuFFT factory: Attempting to register factory for plugin cuFFT when one has already been registered\n",
      "2024-06-07 13:40:41.805253: E external/local_xla/xla/stream_executor/cuda/cuda_blas.cc:1515] Unable to register cuBLAS factory: Attempting to register factory for plugin cuBLAS when one has already been registered\n",
      "2024-06-07 13:40:41.812145: I tensorflow/core/platform/cpu_feature_guard.cc:182] This TensorFlow binary is optimized to use available CPU instructions in performance-critical operations.\n",
      "To enable the following instructions: AVX2 FMA, in other operations, rebuild TensorFlow with the appropriate compiler flags.\n",
      "2024-06-07 13:40:42.738763: W tensorflow/compiler/tf2tensorrt/utils/py_utils.cc:38] TF-TRT Warning: Could not find TensorRT\n"
     ]
    }
   ],
   "source": [
    "import copy\n",
    "from tqdm import tqdm\n",
    "\n",
    "import matplotlib.pyplot as plt\n",
    "import numpy as np\n",
    "\n",
    "from torch.utils.data import DataLoader, TensorDataset\n",
    "import tensorflow as tf\n",
    "from tensorflow_gan.examples.mnist.util import mnist_frechet_distance\n",
    "\n",
    "from src.sarnet_vae import *\n",
    "from src.semidense import *"
   ]
  },
  {
   "cell_type": "markdown",
   "metadata": {},
   "source": [
    "### Config\n",
    "- set a particural digit to reconstruct"
   ]
  },
  {
   "cell_type": "code",
   "execution_count": 2,
   "metadata": {},
   "outputs": [],
   "source": [
    "DIGIT = 5\n",
    "image_dim = 28\n",
    "n_pixels = image_dim * image_dim"
   ]
  },
  {
   "cell_type": "markdown",
   "metadata": {},
   "source": [
    "### Data loading\n",
    "\n",
    "- Load images from the MNIST dataset and scale them to range [0-1]"
   ]
  },
  {
   "cell_type": "code",
   "execution_count": 3,
   "metadata": {},
   "outputs": [],
   "source": [
    "# Load train images\n",
    "images = np.load(\"./data/train_images.npy\")\n",
    "labels = np.load(\"./data/train_labels.npy\")\n",
    "images = images[labels == DIGIT]\n",
    "\n",
    "# Load test images\n",
    "test_images = np.load(\"./data/test_images.npy\")\n",
    "test_labels = np.load(\"./data/test_labels.npy\")\n",
    "test_images = test_images[test_labels == DIGIT]\n",
    "\n",
    "# Raw data\n",
    "raw_data = images\n",
    "raw_test_data = test_images\n",
    "\n",
    "# Standarized data\n",
    "standarized_data = images / 255\n",
    "standarized_test_data = test_images / 255"
   ]
  },
  {
   "cell_type": "code",
   "execution_count": 4,
   "metadata": {},
   "outputs": [],
   "source": [
    "def prepare_dataset(train_data, test_data, batch_size=64, device=\"cuda\"):\n",
    "    \"\"\"Create torch dataloader from the numpy data.\n",
    "\n",
    "    Parameters\n",
    "    ----------\n",
    "    train_data : numpy.ndarray\n",
    "        The training data.\n",
    "    test_data : numpy.ndarray\n",
    "        The testing data.\n",
    "    batch_size : int, optional\n",
    "        The batch size for the DataLoader (default is 64).\n",
    "    device : str, optional\n",
    "        The device on which the data will be moved (default is cuda).\n",
    "\n",
    "    Returns\n",
    "    -------\n",
    "    train_loader : torch.utils.data.DataLoader\n",
    "        DataLoader object for the training data with tensors of shape (1,image_dim,image_dim).\n",
    "    test_loader : torch.utils.data.DataLoader\n",
    "        DataLoader object for the testing data with tensors of shape (1,image_dim,image_dim).\n",
    "    \"\"\"\n",
    "    X = train_data.reshape(-1, 1, image_dim, image_dim)\n",
    "    X = torch.tensor(X).float().to(device)\n",
    "    train_loader = DataLoader(TensorDataset(X), batch_size=64, shuffle=True)\n",
    "\n",
    "    X_test = test_data.reshape(-1, 1, image_dim, image_dim)\n",
    "    X_test = torch.tensor(X_test).float().to(device)\n",
    "    test_loader = DataLoader(\n",
    "        TensorDataset(X_test), batch_size=batch_size, shuffle=False\n",
    "    )\n",
    "\n",
    "    return train_loader, test_loader"
   ]
  },
  {
   "cell_type": "markdown",
   "metadata": {},
   "source": [
    "### Image generation\n",
    "\n",
    " - the function below generates an image (or multiple images in parallel) using a `sarNET_VAE` model. It can generate an image from scratch (starting with a black patch) or continue generating from a part of existing image.\n",
    "\n",
    " - First, it generates a latent space random vector, which defines the style of the image. Next, it generates the image (or a batch of images) patch by patch. The random vector can be modified to have less variance, resulting in output digits that are \"sharper\" but less diverse.\n",
    "\n",
    "- To stabilize generation process, it blacks out the pixels below a certain threshold - typically, the pixels below a small constant ~0.09 are set to black."
   ]
  },
  {
   "cell_type": "code",
   "execution_count": 5,
   "metadata": {},
   "outputs": [],
   "source": [
    "def get_i_patch(patch_idx, patch_dim, img_size):\n",
    "    \"\"\"\n",
    "    Get the pixel indices of a specific patch in the image.\n",
    "    \"\"\"\n",
    "    row = patch_idx // (img_size // patch_dim)\n",
    "    col = patch_idx % (img_size // patch_dim)\n",
    "    pxl_idxs = [\n",
    "        (row * patch_dim + p_y) * img_size + col * patch_dim + p_x\n",
    "        for p_y in range(patch_dim)\n",
    "        for p_x in range(patch_dim)\n",
    "    ]\n",
    "    return pxl_idxs\n",
    "\n",
    "\n",
    "def init_image(patch_dim, image=None, pixels_seed=0):\n",
    "    \"\"\"\n",
    "    Initialize an image by setting specific patches to zero.\n",
    "    One can use a specific image as a seed to further generation.\n",
    "    \"\"\"\n",
    "    patch_size = patch_dim**2\n",
    "    patches = n_pixels // patch_size\n",
    "\n",
    "    if image is None:\n",
    "        start_image = np.zeros(n_pixels)\n",
    "        indexes_of_patches = list(range(patches - 1))\n",
    "    else:\n",
    "        start_image = copy.deepcopy(image).reshape(n_pixels)\n",
    "\n",
    "        assert pixels_seed % patch_size == 0\n",
    "        indexes_of_patches = list(\n",
    "            range((pixels_seed // patch_size - 1), patches - 1)\n",
    "        )\n",
    "        for i_p in indexes_of_patches:\n",
    "            idxs = get_i_patch(i_p + 1, patch_dim, image_dim)\n",
    "            start_image[idxs] = 0\n",
    "\n",
    "    return start_image, indexes_of_patches\n",
    "\n",
    "\n",
    "def plot_image(image, show_plot=True):\n",
    "    \"\"\"\n",
    "    Plot an image.\n",
    "    \"\"\"\n",
    "    plt.imshow(image.reshape(28, 28), cmap=\"gray\")\n",
    "    if show_plot:\n",
    "        plt.show()"
   ]
  },
  {
   "cell_type": "code",
   "execution_count": 6,
   "metadata": {},
   "outputs": [],
   "source": [
    "def generate_image(\n",
    "    model,\n",
    "    patch_dim,\n",
    "    latent_dim=10,\n",
    "    image=None,\n",
    "    pixels_seed=0,\n",
    "    th=0,\n",
    "    plot=True,\n",
    "    num_of_images=1,\n",
    "    cust_z=None,\n",
    "    device=\"cuda\",\n",
    "):\n",
    "    \"\"\"\n",
    "    Generate an image (or multiplie images - num_of_images) using a regression sarnet_vae model.\n",
    "\n",
    "    Parameters\n",
    "    ----------\n",
    "    model : nn.Module\n",
    "        The sarnet_vae model used for generating the image.\n",
    "    patch_dim : int\n",
    "        The dimension of the patches to process.\n",
    "    latent_dim : int, optional\n",
    "        The dimension of the latent space (default is 10).\n",
    "    image : numpy.ndarray, optional\n",
    "        The initial image to be used as a base for generation. If None, a blank image is used.\n",
    "    pixels_seed : int, optional\n",
    "        Only applicable if image is not None and num_of_images=1. It's the number of pixels from the base image used as a seed for generation.\n",
    "    th : float, optional\n",
    "        The threshold for pixel values (default is 0).\n",
    "    plot : bool, optional\n",
    "        Whether to plot the generated image (default is True).\n",
    "    num_of_images : int, optional\n",
    "        The number of images for parallel generation (default is 1).\n",
    "    cust_z : torch.Tensor, optional\n",
    "        Custom latent vector to be used for generation. If None, a random vector is generated.\n",
    "    device : str, optional\n",
    "        The device of the latent vector to be moved on\n",
    "        \n",
    "    Returns\n",
    "    -------\n",
    "    numpy.ndarray\n",
    "        The generated image as a numpy array.\n",
    "    \"\"\"\n",
    "\n",
    "    # Initialize the image and get the indexes of patches to process\n",
    "    start_image, indexes_of_patches = init_image(patch_dim, image=image, pixels_seed=pixels_seed)\n",
    "    start_image = start_image.reshape(1, image_dim * image_dim)\n",
    "    start_image = np.repeat(start_image, num_of_images, axis=0)\n",
    "\n",
    "    if cust_z is not None:\n",
    "        z = cust_z\n",
    "    else:\n",
    "        z = torch.randn(num_of_images, latent_dim).to(device)\n",
    "\n",
    "    min_pixel, min_th = 0, th\n",
    "\n",
    "    # Iterate over the patches to generate the image\n",
    "    for idx in indexes_of_patches:\n",
    "        patch_idxs = get_i_patch(idx, patch_dim, image_dim)\n",
    "\n",
    "        X = start_image.reshape(num_of_images, 1, image_dim, image_dim)\n",
    "        X = torch.tensor(X).float().to(\"cuda\")\n",
    "\n",
    "        Y = model.decode(X, z)\n",
    "\n",
    "        Y = Y.to(\"cpu\").detach().numpy().reshape(num_of_images, -1)\n",
    "        patch_idxs = get_i_patch(idx + 1, patch_dim, image_dim)\n",
    "\n",
    "        Y = Y[:, patch_idxs]\n",
    "\n",
    "        Y[Y < min_th] = min_pixel\n",
    "\n",
    "        start_image[:, patch_idxs] = Y\n",
    "\n",
    "    start_image = start_image.reshape(num_of_images, image_dim, image_dim)\n",
    "\n",
    "    if plot:\n",
    "        plot_image(start_image, show_plot=False)\n",
    "\n",
    "    return start_image"
   ]
  },
  {
   "cell_type": "markdown",
   "metadata": {},
   "source": [
    "### Losses and metrics\n",
    "\n",
    "We calculate the Fréchet Inception Distance (FID) score between generated images and MNIST test images. We use `mnist_frechet_distance` function from the tensorflow_gan package. TF_GAN is widely used in projects and research at Google.\n",
    "\n",
    "Unlike the traditional FID calculation, `mnist_frechet_distance` doesn't use the InceptionV3 model. Instead, it uses the TF-GAN MNIST classifier, which has ~99% accuracy. This approach allows for quicker calculations. The function expects the input pixel values to be in the range [-1,1]."
   ]
  },
  {
   "cell_type": "code",
   "execution_count": 7,
   "metadata": {},
   "outputs": [],
   "source": [
    "def get_fid_score_mnist(generated_images, N):\n",
    "    \"\"\"\n",
    "    Calculate the Fréchet Inception Distance (FID) score between generated images and MNIST test images.\n",
    "    \n",
    "    Parameters\n",
    "    ----------\n",
    "    generated_images : list, numpy.ndarray or torch.tensor\n",
    "        The generated images to be evaluated. Should be a iterable list of images with shape (N, 28, 28).\n",
    "    N : int\n",
    "        The number of images to be used for calculating the FID score.\n",
    "\n",
    "    Returns\n",
    "    -------\n",
    "    float\n",
    "        The FID score between the generated images and the real MNIST test images.\n",
    "    \"\"\"\n",
    "\n",
    "    # Select N real images from the standardized MNIST test data\n",
    "    real_images = standarized_test_data.reshape(-1, 1, 28, 28)\n",
    "    real_images = real_images[np.random.choice(real_images.shape[0], N)]\n",
    "\n",
    "    # Scale images to [-1, 1] range -> this is the range of pixels the \"mnist_frechet_distance\" expects\n",
    "    real_images = (\n",
    "        real_images.reshape(-1, 1, 28, 28).transpose(0, 2, 3, 1) - 0.5\n",
    "    ) * 2\n",
    "    real_images = tf.convert_to_tensor(real_images, dtype=tf.float32)\n",
    "\n",
    "    # Prepare the generated images\n",
    "    # Scale images to [-1, 1] range -> this is the range of pixels the \"mnist_frechet_distance\" expects\n",
    "    gen_x = (\n",
    "        np.array(generated_images).reshape(-1, 1, 28, 28).transpose(0, 2, 3, 1)\n",
    "        - 0.5\n",
    "    ) * 2\n",
    "    gen_x = tf.convert_to_tensor(gen_x, dtype=tf.float32)\n",
    "\n",
    "    # Calculate the number of batches for the FID computation\n",
    "    num_batches = int(np.ceil(N / 500))\n",
    "    num_batches = max(1, num_batches)\n",
    "    score = mnist_frechet_distance(real_images, gen_x, num_batches)\n",
    "\n",
    "    return score"
   ]
  },
  {
   "cell_type": "code",
   "execution_count": 8,
   "metadata": {},
   "outputs": [],
   "source": [
    "# Define the loss function\n",
    "def vae_loss_function(recon_x, x, mu, logvar, vae_model):\n",
    "    KLD = -0.5 * torch.sum(1 + logvar - mu.pow(2) - logvar.exp())\n",
    "    return KLD + vae_model.decoder.loss(recon_x, x)\n",
    "\n",
    "def compute_vae_error(model, test_loader, loss, loss_to_monitor):\n",
    "    loss_sum = 0\n",
    "    monitored_loss = 0\n",
    "    with torch.no_grad():\n",
    "        for x in test_loader:\n",
    "            x = x[0].reshape(x[0].size(0), 1, image_dim, image_dim)\n",
    "\n",
    "            recon_batch, mu, logvar = model(x)\n",
    "            l = loss(recon_batch, x, mu, logvar, model)\n",
    "            monitored_loss += loss_to_monitor(recon_batch, x)\n",
    "            loss_sum += l\n",
    "\n",
    "    print(f\"Overall loss: {loss_sum / len(test_loader.dataset)}, Monitored loss: {monitored_loss / len(test_loader)}\")\n",
    "    return loss_sum / len(test_loader)"
   ]
  },
  {
   "cell_type": "markdown",
   "metadata": {},
   "source": [
    "# Architecture"
   ]
  },
  {
   "cell_type": "markdown",
   "metadata": {},
   "source": [
    "### SemiDense\n",
    "The core of SarNET is a sparse linear layer. It is designed so that, except for the first neuron, each pixel/patch in the input is connected to the neurons corresponding to the subsequent pixel/patches. Additionaly, one can add connections from all the output neurons to the input latent vector.\n",
    "\n",
    "The SemiDense layer takes a flattened image as input and processes it pixel by pixel or patch by patch (depending on the configuration). The patches are subsequent squares of the image and do not overlap. The layer can be configured in two ways:\n",
    "\n",
    "- the 0-th output patch depends on the 0-th input patch, and the i-th output patch (for i>0) depends on the 0,...,(i-1)-th input patches (used in the first layer)\n",
    "- the i-th output patch depends on the 0,...,i-th input patches (used in deeper layers)\n",
    "\n",
    "The image below illustrates the second configuration. As shown, the last input patch is not connected to any neurons because we want to predict the last output patch based on the previous ones.\n",
    "\n",
    "\n",
    "\n",
    "<img src=\"docs/SemiDense_graph.png\" alt=\"SemiDense Graph\" width=\"500\">\n",
    "\n",
    "The design allows us to feed the entire flattened image into a network and obtain an output image of the same size. There is no need to \"shift\" the sequence as in transformer models.\n",
    "\n",
    "To preserve the autoregressive nature of the layer, the number of output pixels/patches should be the same as the number of input pixels/patches. The size of the input patches can vary the size of the output patches. For example, we can compress the image from patches of size 4x4 to patches of size 2x2 or 1x1. Conversely, we can expand the size of the patch to, for example, 8x8. Additionally, we can add channels to the input and output images—the architecture remains the same, but instead of looking at/predicting the patch in a single channel, we look at/predict the patch in every channel.\n",
    "\n"
   ]
  },
  {
   "cell_type": "markdown",
   "metadata": {},
   "source": [
    "### sarNET VAE SemiDense Autoregressive Network Variational AutoEncoder\n",
    "\n",
    "- The SarNET VAE leverages the advantages of a Variational AutoEncoder to enhance the generation process. First, it organizes the latent space using a convolutional encoder. Then, it feeds the input image into a stack of SemiDense layers. Each of the SemiDense layers has additional connections to the latent vector produced by the convolutional encoder.\n",
    "\n",
    "- Within the stack of SemiDense layers, the first layer is of type 1, meaning that the 0-th output patch depends on the 0-th input patch, and the i-th output patch (for $i>0$) depends on the 0,...,(i-1)-th input patches. Subsequent layers are of type 2, where the i-th output patch depends on the 0-th to i-th input patches (used in deeper layers). We decided to use three SemiDense layers. The first one compresses the input patches, the second one generates the image, and the last one refines the output.\n",
    "\n",
    "<img src=\"docs/sarNET_VAE.png\" alt=\"SemiDense Graph\" width=\"500\">\n",
    "\n",
    "- The loss function consists of the KLD loss and the reconstruction loss, which is BCE. We use BCE because we are dealing with black and white images, so we can interpret the output probability as the pixel intensity.\n",
    "\n"
   ]
  },
  {
   "cell_type": "markdown",
   "metadata": {},
   "source": [
    "# Training (128 latent dim)"
   ]
  },
  {
   "cell_type": "code",
   "execution_count": 9,
   "metadata": {},
   "outputs": [],
   "source": [
    "# config\n",
    "patch_dim = 4\n",
    "device=\"cuda\""
   ]
  },
  {
   "cell_type": "code",
   "execution_count": 10,
   "metadata": {},
   "outputs": [],
   "source": [
    "latent_dim = 128\n",
    "in_latent_dim = 128\n",
    "\n",
    "hidden_channels_1 = 2\n",
    "hidden_channels_2 = 2\n",
    "hidden_img_size = image_dim // 2\n",
    "hidden_patch_size = patch_dim // 2\n",
    "\n",
    "seed = 1234\n",
    "torch.manual_seed(seed)\n",
    "np.random.seed(seed)\n",
    "\n",
    "layers = nn.Sequential(\n",
    "    SemiDense(image_dim, hidden_img_size, 1, hidden_channels_1, patch_dim, hidden_patch_size, shift=True, latent_dim=in_latent_dim),\n",
    "    nn.ReLU(),\n",
    "    SemiDense(hidden_img_size, image_dim, hidden_channels_1, hidden_channels_2, hidden_patch_size, patch_dim, shift=False, latent_dim=in_latent_dim),\n",
    "    nn.ReLU(),\n",
    "    SemiDense(image_dim, image_dim, hidden_channels_2, 1, patch_dim, patch_dim, shift=False, latent_dim=in_latent_dim),\n",
    "    nn.Sigmoid()\n",
    ")\n",
    "custom_loss = nn.MSELoss(reduction=\"mean\")\n",
    "bce_loss = nn.BCELoss(reduction=\"sum\")\n",
    "\n",
    "sarnet_vae = sarNet_VAE(layers, bce_loss, latent_dim, image_dim)\n",
    "sarnet_vae.to(device)\n",
    "optimizer = torch.optim.Adam(sarnet_vae.parameters(), lr=1e-3)\n",
    "train_loader, test_loader = prepare_dataset(\n",
    "    standarized_data, standarized_test_data, batch_size=64, device=device\n",
    ")"
   ]
  },
  {
   "cell_type": "code",
   "execution_count": 11,
   "metadata": {},
   "outputs": [
    {
     "name": "stdout",
     "output_type": "stream",
     "text": [
      "After epoch 10 avg_los: 112.260611313\n",
      "Overall loss: 112.05719757080078, Monitored loss: 0.018442098051309586\n",
      "After epoch 20 avg_los: 101.449013025\n",
      "Overall loss: 103.9395751953125, Monitored loss: 0.014558536000549793\n",
      "After epoch 30 avg_los: 97.345225833\n",
      "Overall loss: 101.3819351196289, Monitored loss: 0.01372595690190792\n",
      "After epoch 40 avg_los: 94.967004762\n",
      "Overall loss: 100.54206085205078, Monitored loss: 0.013403907418251038\n",
      "After epoch 50 avg_los: 92.840517039\n",
      "Overall loss: 100.0642318725586, Monitored loss: 0.01323026791214943\n",
      "After epoch 60 avg_los: 91.151183891\n",
      "Overall loss: 99.87970733642578, Monitored loss: 0.01326003484427929\n",
      "After epoch 70 avg_los: 89.726038730\n",
      "Overall loss: 99.88835906982422, Monitored loss: 0.013276314362883568\n",
      "After epoch 80 avg_los: 88.594063361\n",
      "Overall loss: 100.32568359375, Monitored loss: 0.013733494095504284\n",
      "After epoch 90 avg_los: 87.439422591\n",
      "Overall loss: 100.4602279663086, Monitored loss: 0.013658459298312664\n",
      "After epoch 100 avg_los: 86.435334575\n",
      "Overall loss: 101.23148345947266, Monitored loss: 0.014108876697719097\n",
      "After epoch 110 avg_los: 85.586746078\n",
      "Overall loss: 101.4950180053711, Monitored loss: 0.014006072655320168\n",
      "After epoch 120 avg_los: 84.876824727\n",
      "Overall loss: 101.73648834228516, Monitored loss: 0.014134310185909271\n",
      "After epoch 130 avg_los: 84.172099685\n",
      "Overall loss: 102.45787048339844, Monitored loss: 0.014369769021868706\n",
      "After epoch 140 avg_los: 83.602736591\n",
      "Overall loss: 102.93948364257812, Monitored loss: 0.015026186592876911\n",
      "After epoch 150 avg_los: 83.034354968\n",
      "Overall loss: 103.55488586425781, Monitored loss: 0.01507510244846344\n",
      "After epoch 160 avg_los: 82.604129872\n",
      "Overall loss: 104.09840393066406, Monitored loss: 0.01518015656620264\n",
      "After epoch 170 avg_los: 81.986370279\n",
      "Overall loss: 104.43464660644531, Monitored loss: 0.015392227098345757\n",
      "After epoch 180 avg_los: 81.540712172\n",
      "Overall loss: 105.02918243408203, Monitored loss: 0.015432355925440788\n",
      "After epoch 190 avg_los: 81.213917358\n",
      "Overall loss: 105.21832275390625, Monitored loss: 0.01575593650341034\n",
      "After epoch 200 avg_los: 80.736920575\n",
      "Overall loss: 105.95198059082031, Monitored loss: 0.015964949503540993\n"
     ]
    }
   ],
   "source": [
    "model = sarnet_vae\n",
    "max_epochs = 200\n",
    "\n",
    "for epoch in range(max_epochs):\n",
    "    model.train()\n",
    "    avg_loss = 0\n",
    "    for x in train_loader:\n",
    "        x = x[0].reshape(x[0].size(0), 1, 28, 28)\n",
    "        optimizer.zero_grad()\n",
    "\n",
    "        recon_batch, mu, logvar = model(x)\n",
    "        loss = vae_loss_function(recon_batch, x, mu, logvar, model)\n",
    "\n",
    "        # Backward pass and optimize\n",
    "        loss.backward()\n",
    "        optimizer.step()\n",
    "        avg_loss += loss.item()\n",
    "\n",
    "    avg_loss /= len(train_loader.dataset)\n",
    "\n",
    "    if (epoch + 1) % 10 == 0:\n",
    "        print(f\"After epoch {epoch+1} avg_los: {avg_loss:.9f}\")\n",
    "        test_loss = compute_vae_error(model, test_loader, vae_loss_function, custom_loss)\n",
    "\n",
    "        '''if (epoch + 1) > 100:# == 0:\n",
    "            model.eval()\n",
    "            generated_images = []\n",
    "            N = 10000\n",
    "            num_of_images = 500\n",
    "            for num in tqdm(range(0, N, num_of_images)):\n",
    "                img = generate_image(\n",
    "                    model,\n",
    "                    patch_dim,\n",
    "                    latent_dim=latent_dim,\n",
    "                    th=0.105,\n",
    "                    num_of_images=num_of_images,\n",
    "                    plot=False,\n",
    "                )\n",
    "\n",
    "                generated_images.append(img)\n",
    "\n",
    "            score = get_fid_score_mnist(generated_images, N)\n",
    "            if score < 1.45:\n",
    "                break\n",
    "            print(f\"FID\", score)'''"
   ]
  },
  {
   "cell_type": "markdown",
   "metadata": {},
   "source": [
    "# Evaluation\n",
    "\n",
    "Best score with vector 128 latent dim:\n",
    "- mean FID: 1.5350 and std: 0.08037\n",
    "\n",
    "Best score with vector 64 latent dim:\n",
    "- mean FID: 1.5950 and std: 0.07689\n",
    "\n",
    "Best score with vector 32 latent dim:\n",
    "- mean FID: 1.5802 and std: 0.08526\n",
    "\n",
    "Best score with vector 16 latent dim:\n",
    "- mean FID: 1.6140 and std: 0.04884\n",
    "\n",
    "Best score with vector 8 latent dim:\n",
    "- mean FID: 2.1251 and std: 0.08887\n"
   ]
  },
  {
   "cell_type": "markdown",
   "metadata": {},
   "source": [
    "### 64 latent dim"
   ]
  },
  {
   "cell_type": "code",
   "execution_count": 35,
   "metadata": {},
   "outputs": [
    {
     "name": "stdout",
     "output_type": "stream",
     "text": [
      "After epoch 10 avg_los: 110.680290623\n",
      "Overall loss: 110.40888214111328, Monitored loss: 0.01765618845820427\n",
      "After epoch 20 avg_los: 101.688049620\n",
      "Overall loss: 103.58287811279297, Monitored loss: 0.014414125122129917\n",
      "After epoch 30 avg_los: 98.130812537\n",
      "Overall loss: 101.11072540283203, Monitored loss: 0.013033402152359486\n",
      "After epoch 40 avg_los: 95.726130604\n",
      "Overall loss: 100.39429473876953, Monitored loss: 0.013002746738493443\n",
      "After epoch 50 avg_los: 94.000004143\n",
      "Overall loss: 99.6449203491211, Monitored loss: 0.012383217923343182\n",
      "After epoch 60 avg_los: 92.579872851\n",
      "Overall loss: 99.48002624511719, Monitored loss: 0.012343969196081161\n",
      "After epoch 70 avg_los: 91.372130931\n",
      "Overall loss: 99.21592712402344, Monitored loss: 0.012812693603336811\n",
      "After epoch 80 avg_los: 90.300996432\n",
      "Overall loss: 99.18836975097656, Monitored loss: 0.012853293679654598\n",
      "After epoch 90 avg_los: 89.391624936\n",
      "Overall loss: 99.16051483154297, Monitored loss: 0.012826468795537949\n",
      "After epoch 100 avg_los: 88.514582595\n",
      "Overall loss: 99.3322525024414, Monitored loss: 0.012980611994862556\n",
      "After epoch 110 avg_los: 87.691348604\n",
      "Overall loss: 99.84210968017578, Monitored loss: 0.01322570163756609\n",
      "After epoch 120 avg_los: 87.165766485\n",
      "Overall loss: 100.04244995117188, Monitored loss: 0.013254089280962944\n",
      "After epoch 130 avg_los: 86.488083587\n",
      "Overall loss: 100.3089599609375, Monitored loss: 0.013200076296925545\n",
      "After epoch 140 avg_los: 85.904964850\n",
      "Overall loss: 100.77924346923828, Monitored loss: 0.013617944903671741\n",
      "After epoch 150 avg_los: 85.299808155\n",
      "Overall loss: 100.7699203491211, Monitored loss: 0.013652203604578972\n",
      "After epoch 160 avg_los: 84.926988577\n",
      "Overall loss: 101.59503173828125, Monitored loss: 0.013775254599750042\n",
      "After epoch 170 avg_los: 84.528035414\n",
      "Overall loss: 101.64522552490234, Monitored loss: 0.01389903761446476\n",
      "After epoch 180 avg_los: 84.031184112\n",
      "Overall loss: 102.18274688720703, Monitored loss: 0.014239247888326645\n",
      "After epoch 190 avg_los: 83.609611530\n",
      "Overall loss: 102.41515350341797, Monitored loss: 0.014396551065146923\n",
      "After epoch 200 avg_los: 83.225152961\n",
      "Overall loss: 102.43106079101562, Monitored loss: 0.014295210130512714\n"
     ]
    }
   ],
   "source": [
    "latent_dim = 64\n",
    "in_latent_dim = 64\n",
    "\n",
    "hidden_channels_1 = 1\n",
    "hidden_channels_2 = 2\n",
    "hidden_img_size = image_dim // 2\n",
    "hidden_patch_size = patch_dim // 2\n",
    "\n",
    "seed = 1234\n",
    "torch.manual_seed(seed)\n",
    "np.random.seed(seed)\n",
    "\n",
    "layers = nn.Sequential(\n",
    "    SemiDense(image_dim, hidden_img_size, 1, hidden_channels_1, patch_dim, hidden_patch_size, shift=True, latent_dim=in_latent_dim),\n",
    "    nn.ReLU(),\n",
    "    SemiDense(hidden_img_size, image_dim, hidden_channels_1, hidden_channels_2, hidden_patch_size, patch_dim, shift=False, latent_dim=in_latent_dim),\n",
    "    nn.ReLU(),\n",
    "    SemiDense(image_dim, image_dim, hidden_channels_2, 1, patch_dim, patch_dim, shift=False, latent_dim=in_latent_dim),\n",
    "    nn.Sigmoid()\n",
    ")\n",
    "custom_loss = nn.MSELoss(reduction=\"mean\")\n",
    "bce_loss = nn.BCELoss(reduction=\"sum\")\n",
    "\n",
    "sarnet_vae = sarNet_VAE(layers, bce_loss, latent_dim, image_dim)\n",
    "sarnet_vae.to(device)\n",
    "optimizer = torch.optim.Adam(sarnet_vae.parameters(), lr=1e-3)\n",
    "train_loader, test_loader = prepare_dataset(\n",
    "    standarized_data, standarized_test_data, batch_size=64, device=device\n",
    ")\n",
    "\n",
    "model = sarnet_vae\n",
    "max_epochs = 200\n",
    "\n",
    "for epoch in range(max_epochs):\n",
    "    model.train()\n",
    "    avg_loss = 0\n",
    "    for x in train_loader:\n",
    "        x = x[0].reshape(x[0].size(0), 1, 28, 28)\n",
    "        optimizer.zero_grad()\n",
    "\n",
    "        recon_batch, mu, logvar = model(x)\n",
    "        loss = vae_loss_function(recon_batch, x, mu, logvar, model)\n",
    "\n",
    "        # Backward pass and optimize\n",
    "        loss.backward()\n",
    "        optimizer.step()\n",
    "        avg_loss += loss.item()\n",
    "\n",
    "    avg_loss /= len(train_loader.dataset)\n",
    "\n",
    "    if (epoch + 1) % 10 == 0:\n",
    "        print(f\"After epoch {epoch+1} avg_los: {avg_loss:.9f}\")\n",
    "        test_loss = compute_vae_error(model, test_loader, vae_loss_function, custom_loss)\n",
    "\n",
    "        '''if (epoch + 1) > 50:# == 0:\n",
    "            model.eval()\n",
    "            generated_images = []\n",
    "            N = 800\n",
    "            num_of_images = 400\n",
    "            for num in tqdm(range(0, N, num_of_images)):\n",
    "                img = generate_image(\n",
    "                    model,\n",
    "                    patch_dim,\n",
    "                    latent_dim=latent_dim,\n",
    "                    th=0.105,\n",
    "                    num_of_images=num_of_images,\n",
    "                    plot=False,\n",
    "                )\n",
    "\n",
    "                generated_images.append(img)\n",
    "\n",
    "            score = get_fid_score_mnist(generated_images, N)\n",
    "            print(f\"FID\", score)\n",
    "            if score < 1.45:\n",
    "                break'''"
   ]
  },
  {
   "cell_type": "code",
   "execution_count": 37,
   "metadata": {},
   "outputs": [
    {
     "name": "stderr",
     "output_type": "stream",
     "text": [
      "  0%|          | 0/10 [00:00<?, ?it/s]"
     ]
    },
    {
     "name": "stderr",
     "output_type": "stream",
     "text": [
      " 10%|█         | 1/10 [00:07<01:10,  7.79s/it]"
     ]
    },
    {
     "name": "stdout",
     "output_type": "stream",
     "text": [
      "FID in 0 tf.Tensor(1.4521933, shape=(), dtype=float32)\n"
     ]
    },
    {
     "name": "stderr",
     "output_type": "stream",
     "text": [
      " 20%|██        | 2/10 [00:15<01:00,  7.59s/it]"
     ]
    },
    {
     "name": "stdout",
     "output_type": "stream",
     "text": [
      "FID in 1 tf.Tensor(1.7141283, shape=(), dtype=float32)\n"
     ]
    },
    {
     "name": "stderr",
     "output_type": "stream",
     "text": [
      " 30%|███       | 3/10 [00:22<00:52,  7.52s/it]"
     ]
    },
    {
     "name": "stdout",
     "output_type": "stream",
     "text": [
      "FID in 2 tf.Tensor(1.6111147, shape=(), dtype=float32)\n"
     ]
    },
    {
     "name": "stderr",
     "output_type": "stream",
     "text": [
      " 40%|████      | 4/10 [00:30<00:45,  7.55s/it]"
     ]
    },
    {
     "name": "stdout",
     "output_type": "stream",
     "text": [
      "FID in 3 tf.Tensor(1.5877134, shape=(), dtype=float32)\n"
     ]
    },
    {
     "name": "stderr",
     "output_type": "stream",
     "text": [
      " 50%|█████     | 5/10 [00:38<00:38,  7.69s/it]"
     ]
    },
    {
     "name": "stdout",
     "output_type": "stream",
     "text": [
      "FID in 4 tf.Tensor(1.5936435, shape=(), dtype=float32)\n"
     ]
    },
    {
     "name": "stderr",
     "output_type": "stream",
     "text": [
      " 60%|██████    | 6/10 [00:46<00:31,  7.76s/it]"
     ]
    },
    {
     "name": "stdout",
     "output_type": "stream",
     "text": [
      "FID in 5 tf.Tensor(1.615664, shape=(), dtype=float32)\n"
     ]
    },
    {
     "name": "stderr",
     "output_type": "stream",
     "text": [
      " 70%|███████   | 7/10 [00:53<00:22,  7.63s/it]"
     ]
    },
    {
     "name": "stdout",
     "output_type": "stream",
     "text": [
      "FID in 6 tf.Tensor(1.6733835, shape=(), dtype=float32)\n"
     ]
    },
    {
     "name": "stderr",
     "output_type": "stream",
     "text": [
      " 80%|████████  | 8/10 [01:00<00:15,  7.53s/it]"
     ]
    },
    {
     "name": "stdout",
     "output_type": "stream",
     "text": [
      "FID in 7 tf.Tensor(1.4662293, shape=(), dtype=float32)\n"
     ]
    },
    {
     "name": "stderr",
     "output_type": "stream",
     "text": [
      " 90%|█████████ | 9/10 [01:08<00:07,  7.47s/it]"
     ]
    },
    {
     "name": "stdout",
     "output_type": "stream",
     "text": [
      "FID in 8 tf.Tensor(1.6195205, shape=(), dtype=float32)\n"
     ]
    },
    {
     "name": "stderr",
     "output_type": "stream",
     "text": [
      "100%|██████████| 10/10 [01:15<00:00,  7.57s/it]"
     ]
    },
    {
     "name": "stdout",
     "output_type": "stream",
     "text": [
      "FID in 9 tf.Tensor(1.6165888, shape=(), dtype=float32)\n",
      "FID mean score: 1.5950178 FID std score: 0.076889604\n"
     ]
    },
    {
     "name": "stderr",
     "output_type": "stream",
     "text": [
      "\n"
     ]
    }
   ],
   "source": [
    "num_experiments = 10\n",
    "N = 10000\n",
    "num_of_images = 500\n",
    "\n",
    "scores = []\n",
    "eval_seed = 2024\n",
    "torch.manual_seed(eval_seed)\n",
    "np.random.seed(eval_seed)\n",
    "\n",
    "model = sarnet_vae\n",
    "\n",
    "for i in tqdm(range(num_experiments)):\n",
    "    generated_images = []\n",
    "    for num in range(0, N, num_of_images):\n",
    "        img = generate_image(\n",
    "            model,\n",
    "            patch_dim,\n",
    "            latent_dim=latent_dim,\n",
    "            th=0.105,\n",
    "            num_of_images=num_of_images,\n",
    "            plot=False,\n",
    "        )\n",
    "\n",
    "        generated_images.append(img)\n",
    "    score = get_fid_score_mnist(generated_images, N)\n",
    "    scores.append(score)\n",
    "    print(f\"FID in {i}\", score)\n",
    "\n",
    "scores = np.array(scores)\n",
    "print(\"FID mean score:\", scores.mean(), \"FID std score:\", scores.std())"
   ]
  },
  {
   "cell_type": "markdown",
   "metadata": {},
   "source": [
    "### 32 latent dim"
   ]
  },
  {
   "cell_type": "code",
   "execution_count": 12,
   "metadata": {},
   "outputs": [],
   "source": [
    "latent_dim = 32\n",
    "in_latent_dim = 32\n",
    "\n",
    "hidden_channels_1 = 1\n",
    "hidden_channels_2 = 2\n",
    "hidden_img_size = image_dim // 2\n",
    "hidden_patch_size = patch_dim // 2\n",
    "\n",
    "seed = 1234\n",
    "torch.manual_seed(seed)\n",
    "np.random.seed(seed)\n",
    "\n",
    "layers = nn.Sequential(\n",
    "    SemiDense(image_dim, hidden_img_size, 1, hidden_channels_1, patch_dim, hidden_patch_size, shift=True, latent_dim=in_latent_dim),\n",
    "    nn.ReLU(),\n",
    "    SemiDense(hidden_img_size, image_dim, hidden_channels_1, hidden_channels_2, hidden_patch_size, patch_dim, shift=False, latent_dim=in_latent_dim),\n",
    "    nn.ReLU(),\n",
    "    SemiDense(image_dim, image_dim, hidden_channels_2, 1, patch_dim, patch_dim, shift=False, latent_dim=in_latent_dim),\n",
    "    nn.Sigmoid()\n",
    ")\n",
    "custom_loss = nn.MSELoss(reduction=\"mean\")\n",
    "bce_loss = nn.BCELoss(reduction=\"sum\")\n",
    "\n",
    "sarnet_vae = sarNet_VAE(layers, bce_loss, latent_dim, image_dim)\n",
    "sarnet_vae.to(device)\n",
    "optimizer = torch.optim.Adam(sarnet_vae.parameters(), lr=1e-3)\n",
    "train_loader, test_loader = prepare_dataset(\n",
    "    standarized_data, standarized_test_data, batch_size=64, device=device\n",
    ")\n",
    "\n",
    "model = sarnet_vae\n",
    "max_epochs = 200\n",
    "\n",
    "for epoch in range(max_epochs):\n",
    "    model.train()\n",
    "    avg_loss = 0\n",
    "    for x in train_loader:\n",
    "        x = x[0].reshape(x[0].size(0), 1, 28, 28)\n",
    "        optimizer.zero_grad()\n",
    "\n",
    "        recon_batch, mu, logvar = model(x)\n",
    "        loss = vae_loss_function(recon_batch, x, mu, logvar, model)\n",
    "\n",
    "        # Backward pass and optimize\n",
    "        loss.backward()\n",
    "        optimizer.step()\n",
    "        avg_loss += loss.item()\n",
    "\n",
    "    avg_loss /= len(train_loader.dataset)\n",
    "\n",
    "    if (epoch + 1) % 10 == 0:\n",
    "        print(f\"After epoch {epoch+1} avg_los: {avg_loss:.9f}\")\n",
    "        test_loss = compute_vae_error(model, test_loader, vae_loss_function, custom_loss)\n",
    "\n",
    "        '''if (epoch + 1) > 50:# == 0:\n",
    "            model.eval()\n",
    "            generated_images = []\n",
    "            N = 800\n",
    "            num_of_images = 400\n",
    "            for num in tqdm(range(0, N, num_of_images)):\n",
    "                img = generate_image(\n",
    "                    model,\n",
    "                    patch_dim,\n",
    "                    latent_dim=latent_dim,\n",
    "                    th=0.105,\n",
    "                    num_of_images=num_of_images,\n",
    "                    plot=False,\n",
    "                )\n",
    "\n",
    "                generated_images.append(img)\n",
    "\n",
    "            score = get_fid_score_mnist(generated_images, N)\n",
    "            print(f\"FID\", score)\n",
    "            if score < 1.45:\n",
    "                break'''"
   ]
  },
  {
   "cell_type": "code",
   "execution_count": 15,
   "metadata": {},
   "outputs": [
    {
     "name": "stderr",
     "output_type": "stream",
     "text": [
      " 10%|█         | 1/10 [00:06<00:55,  6.13s/it]"
     ]
    },
    {
     "name": "stdout",
     "output_type": "stream",
     "text": [
      "FID in 0 tf.Tensor(1.5949084, shape=(), dtype=float32)\n"
     ]
    },
    {
     "name": "stderr",
     "output_type": "stream",
     "text": [
      " 20%|██        | 2/10 [00:12<00:50,  6.34s/it]"
     ]
    },
    {
     "name": "stdout",
     "output_type": "stream",
     "text": [
      "FID in 1 tf.Tensor(1.5847245, shape=(), dtype=float32)\n"
     ]
    },
    {
     "name": "stderr",
     "output_type": "stream",
     "text": [
      " 30%|███       | 3/10 [00:18<00:43,  6.15s/it]"
     ]
    },
    {
     "name": "stdout",
     "output_type": "stream",
     "text": [
      "FID in 2 tf.Tensor(1.5949374, shape=(), dtype=float32)\n"
     ]
    },
    {
     "name": "stderr",
     "output_type": "stream",
     "text": [
      " 40%|████      | 4/10 [00:24<00:35,  5.89s/it]"
     ]
    },
    {
     "name": "stdout",
     "output_type": "stream",
     "text": [
      "FID in 3 tf.Tensor(1.6816698, shape=(), dtype=float32)\n"
     ]
    },
    {
     "name": "stderr",
     "output_type": "stream",
     "text": [
      " 50%|█████     | 5/10 [00:29<00:28,  5.78s/it]"
     ]
    },
    {
     "name": "stdout",
     "output_type": "stream",
     "text": [
      "FID in 4 tf.Tensor(1.5028503, shape=(), dtype=float32)\n"
     ]
    },
    {
     "name": "stderr",
     "output_type": "stream",
     "text": [
      " 60%|██████    | 6/10 [00:34<00:22,  5.58s/it]"
     ]
    },
    {
     "name": "stdout",
     "output_type": "stream",
     "text": [
      "FID in 5 tf.Tensor(1.6230314, shape=(), dtype=float32)\n"
     ]
    },
    {
     "name": "stderr",
     "output_type": "stream",
     "text": [
      " 70%|███████   | 7/10 [00:40<00:16,  5.49s/it]"
     ]
    },
    {
     "name": "stdout",
     "output_type": "stream",
     "text": [
      "FID in 6 tf.Tensor(1.5497816, shape=(), dtype=float32)\n"
     ]
    },
    {
     "name": "stderr",
     "output_type": "stream",
     "text": [
      " 80%|████████  | 8/10 [00:45<00:10,  5.43s/it]"
     ]
    },
    {
     "name": "stdout",
     "output_type": "stream",
     "text": [
      "FID in 7 tf.Tensor(1.4020714, shape=(), dtype=float32)\n"
     ]
    },
    {
     "name": "stderr",
     "output_type": "stream",
     "text": [
      " 90%|█████████ | 9/10 [00:50<00:05,  5.42s/it]"
     ]
    },
    {
     "name": "stdout",
     "output_type": "stream",
     "text": [
      "FID in 8 tf.Tensor(1.5455517, shape=(), dtype=float32)\n"
     ]
    },
    {
     "name": "stderr",
     "output_type": "stream",
     "text": [
      "100%|██████████| 10/10 [00:56<00:00,  5.62s/it]"
     ]
    },
    {
     "name": "stdout",
     "output_type": "stream",
     "text": [
      "FID in 9 tf.Tensor(1.7225415, shape=(), dtype=float32)\n",
      "FID mean score: 1.5802068 FID std score: 0.085255094\n"
     ]
    },
    {
     "name": "stderr",
     "output_type": "stream",
     "text": [
      "\n"
     ]
    }
   ],
   "source": [
    "num_experiments = 10\n",
    "N = 10000\n",
    "num_of_images = 500\n",
    "\n",
    "scores = []\n",
    "eval_seed = 2024\n",
    "torch.manual_seed(eval_seed)\n",
    "np.random.seed(eval_seed)\n",
    "\n",
    "model = sarnet_vae\n",
    "\n",
    "for i in tqdm(range(num_experiments)):\n",
    "    generated_images = []\n",
    "    for num in range(0, N, num_of_images):\n",
    "        img = generate_image(\n",
    "            model,\n",
    "            patch_dim,\n",
    "            latent_dim=latent_dim,\n",
    "            th=0.105,\n",
    "            num_of_images=num_of_images,\n",
    "            plot=False,\n",
    "        )\n",
    "\n",
    "        generated_images.append(img)\n",
    "    score = get_fid_score_mnist(generated_images, N)\n",
    "    scores.append(score)\n",
    "    print(f\"FID in {i}\", score)\n",
    "\n",
    "scores = np.array(scores)\n",
    "print(\"FID mean score:\", scores.mean(), \"FID std score:\", scores.std())"
   ]
  },
  {
   "cell_type": "markdown",
   "metadata": {},
   "source": [
    "### 16 latent dim"
   ]
  },
  {
   "cell_type": "code",
   "execution_count": 16,
   "metadata": {},
   "outputs": [
    {
     "name": "stdout",
     "output_type": "stream",
     "text": [
      "After epoch 10 avg_los: 109.169702549\n",
      "Overall loss: 108.89692687988281, Monitored loss: 0.0171610489487648\n",
      "After epoch 20 avg_los: 100.268544239\n",
      "Overall loss: 102.06881713867188, Monitored loss: 0.013553053140640259\n",
      "After epoch 30 avg_los: 96.781879064\n",
      "Overall loss: 99.88406372070312, Monitored loss: 0.01283738948404789\n",
      "After epoch 40 avg_los: 94.497967071\n",
      "Overall loss: 98.92623901367188, Monitored loss: 0.012590044178068638\n",
      "After epoch 50 avg_los: 92.795353050\n",
      "Overall loss: 98.51722717285156, Monitored loss: 0.012706193141639233\n",
      "After epoch 60 avg_los: 91.385481248\n",
      "Overall loss: 97.96028900146484, Monitored loss: 0.01243249885737896\n",
      "After epoch 70 avg_los: 90.162527445\n",
      "Overall loss: 97.93565368652344, Monitored loss: 0.012746850959956646\n",
      "After epoch 80 avg_los: 89.216707478\n",
      "Overall loss: 97.89873504638672, Monitored loss: 0.012687018141150475\n",
      "After epoch 90 avg_los: 88.308257691\n",
      "Overall loss: 98.3504409790039, Monitored loss: 0.01285457331687212\n",
      "After epoch 100 avg_los: 87.516530676\n",
      "Overall loss: 98.21451568603516, Monitored loss: 0.013016371056437492\n",
      "After epoch 110 avg_los: 86.788399028\n",
      "Overall loss: 98.57257080078125, Monitored loss: 0.01314627006649971\n",
      "After epoch 120 avg_los: 86.158831649\n",
      "Overall loss: 98.98031616210938, Monitored loss: 0.013208809308707714\n",
      "After epoch 130 avg_los: 85.610739413\n",
      "Overall loss: 99.09141540527344, Monitored loss: 0.013527710922062397\n",
      "After epoch 140 avg_los: 85.100200609\n",
      "Overall loss: 99.80245208740234, Monitored loss: 0.013735609129071236\n",
      "After epoch 150 avg_los: 84.492393630\n",
      "Overall loss: 99.43478393554688, Monitored loss: 0.013548184186220169\n",
      "After epoch 160 avg_los: 84.071574771\n",
      "Overall loss: 100.06614685058594, Monitored loss: 0.013897441327571869\n",
      "After epoch 170 avg_los: 83.746354599\n",
      "Overall loss: 100.50537109375, Monitored loss: 0.013845670036971569\n",
      "After epoch 180 avg_los: 83.373507954\n",
      "Overall loss: 100.58890533447266, Monitored loss: 0.014008015394210815\n",
      "After epoch 190 avg_los: 82.869401114\n",
      "Overall loss: 101.22991943359375, Monitored loss: 0.014349187724292278\n",
      "After epoch 200 avg_los: 82.532388152\n",
      "Overall loss: 101.57118225097656, Monitored loss: 0.01437049824744463\n"
     ]
    }
   ],
   "source": [
    "latent_dim = 16\n",
    "in_latent_dim = 16\n",
    "\n",
    "hidden_channels_1 = 1\n",
    "hidden_channels_2 = 2\n",
    "hidden_img_size = image_dim // 2\n",
    "hidden_patch_size = patch_dim // 2\n",
    "\n",
    "seed = 1234\n",
    "torch.manual_seed(seed)\n",
    "np.random.seed(seed)\n",
    "\n",
    "layers = nn.Sequential(\n",
    "    SemiDense(image_dim, hidden_img_size, 1, hidden_channels_1, patch_dim, hidden_patch_size, shift=True, latent_dim=in_latent_dim),\n",
    "    nn.ReLU(),\n",
    "    SemiDense(hidden_img_size, image_dim, hidden_channels_1, hidden_channels_2, hidden_patch_size, patch_dim, shift=False, latent_dim=in_latent_dim),\n",
    "    nn.ReLU(),\n",
    "    SemiDense(image_dim, image_dim, hidden_channels_2, 1, patch_dim, patch_dim, shift=False, latent_dim=in_latent_dim),\n",
    "    nn.Sigmoid()\n",
    ")\n",
    "custom_loss = nn.MSELoss(reduction=\"mean\")\n",
    "bce_loss = nn.BCELoss(reduction=\"sum\")\n",
    "\n",
    "sarnet_vae = sarNet_VAE(layers, bce_loss, latent_dim, image_dim)\n",
    "sarnet_vae.to(device)\n",
    "optimizer = torch.optim.Adam(sarnet_vae.parameters(), lr=1e-3)\n",
    "train_loader, test_loader = prepare_dataset(\n",
    "    standarized_data, standarized_test_data, batch_size=64, device=device\n",
    ")\n",
    "\n",
    "model = sarnet_vae\n",
    "max_epochs = 200\n",
    "\n",
    "for epoch in range(max_epochs):\n",
    "    model.train()\n",
    "    avg_loss = 0\n",
    "    for x in train_loader:\n",
    "        x = x[0].reshape(x[0].size(0), 1, 28, 28)\n",
    "        optimizer.zero_grad()\n",
    "\n",
    "        recon_batch, mu, logvar = model(x)\n",
    "        loss = vae_loss_function(recon_batch, x, mu, logvar, model)\n",
    "\n",
    "        # Backward pass and optimize\n",
    "        loss.backward()\n",
    "        optimizer.step()\n",
    "        avg_loss += loss.item()\n",
    "\n",
    "    avg_loss /= len(train_loader.dataset)\n",
    "\n",
    "    if (epoch + 1) % 10 == 0:\n",
    "        print(f\"After epoch {epoch+1} avg_los: {avg_loss:.9f}\")\n",
    "        test_loss = compute_vae_error(model, test_loader, vae_loss_function, custom_loss)\n",
    "\n",
    "        '''if (epoch + 1) > 50:# == 0:\n",
    "            model.eval()\n",
    "            generated_images = []\n",
    "            N = 800\n",
    "            num_of_images = 400\n",
    "            for num in tqdm(range(0, N, num_of_images)):\n",
    "                img = generate_image(\n",
    "                    model,\n",
    "                    patch_dim,\n",
    "                    latent_dim=latent_dim,\n",
    "                    th=0.105,\n",
    "                    num_of_images=num_of_images,\n",
    "                    plot=False,\n",
    "                )\n",
    "\n",
    "                generated_images.append(img)\n",
    "\n",
    "            score = get_fid_score_mnist(generated_images, N)\n",
    "            print(f\"FID\", score)\n",
    "            if score < 1.45:\n",
    "                break'''"
   ]
  },
  {
   "cell_type": "code",
   "execution_count": 17,
   "metadata": {},
   "outputs": [
    {
     "name": "stderr",
     "output_type": "stream",
     "text": [
      " 10%|█         | 1/10 [00:05<00:49,  5.54s/it]"
     ]
    },
    {
     "name": "stdout",
     "output_type": "stream",
     "text": [
      "FID in 0 tf.Tensor(1.6294726, shape=(), dtype=float32)\n"
     ]
    },
    {
     "name": "stderr",
     "output_type": "stream",
     "text": [
      " 20%|██        | 2/10 [00:10<00:43,  5.43s/it]"
     ]
    },
    {
     "name": "stdout",
     "output_type": "stream",
     "text": [
      "FID in 1 tf.Tensor(1.6024597, shape=(), dtype=float32)\n"
     ]
    },
    {
     "name": "stderr",
     "output_type": "stream",
     "text": [
      " 30%|███       | 3/10 [00:16<00:37,  5.34s/it]"
     ]
    },
    {
     "name": "stdout",
     "output_type": "stream",
     "text": [
      "FID in 2 tf.Tensor(1.4953249, shape=(), dtype=float32)\n"
     ]
    },
    {
     "name": "stderr",
     "output_type": "stream",
     "text": [
      " 40%|████      | 4/10 [00:21<00:31,  5.22s/it]"
     ]
    },
    {
     "name": "stdout",
     "output_type": "stream",
     "text": [
      "FID in 3 tf.Tensor(1.5787169, shape=(), dtype=float32)\n"
     ]
    },
    {
     "name": "stderr",
     "output_type": "stream",
     "text": [
      " 50%|█████     | 5/10 [00:26<00:25,  5.13s/it]"
     ]
    },
    {
     "name": "stdout",
     "output_type": "stream",
     "text": [
      "FID in 4 tf.Tensor(1.6506029, shape=(), dtype=float32)\n"
     ]
    },
    {
     "name": "stderr",
     "output_type": "stream",
     "text": [
      " 60%|██████    | 6/10 [00:31<00:20,  5.11s/it]"
     ]
    },
    {
     "name": "stdout",
     "output_type": "stream",
     "text": [
      "FID in 5 tf.Tensor(1.6374544, shape=(), dtype=float32)\n"
     ]
    },
    {
     "name": "stderr",
     "output_type": "stream",
     "text": [
      " 70%|███████   | 7/10 [00:36<00:15,  5.09s/it]"
     ]
    },
    {
     "name": "stdout",
     "output_type": "stream",
     "text": [
      "FID in 6 tf.Tensor(1.617726, shape=(), dtype=float32)\n"
     ]
    },
    {
     "name": "stderr",
     "output_type": "stream",
     "text": [
      " 80%|████████  | 8/10 [00:41<00:10,  5.08s/it]"
     ]
    },
    {
     "name": "stdout",
     "output_type": "stream",
     "text": [
      "FID in 7 tf.Tensor(1.6682523, shape=(), dtype=float32)\n"
     ]
    },
    {
     "name": "stderr",
     "output_type": "stream",
     "text": [
      " 90%|█████████ | 9/10 [00:46<00:05,  5.09s/it]"
     ]
    },
    {
     "name": "stdout",
     "output_type": "stream",
     "text": [
      "FID in 8 tf.Tensor(1.5926257, shape=(), dtype=float32)\n"
     ]
    },
    {
     "name": "stderr",
     "output_type": "stream",
     "text": [
      "100%|██████████| 10/10 [00:52<00:00,  5.25s/it]"
     ]
    },
    {
     "name": "stdout",
     "output_type": "stream",
     "text": [
      "FID in 9 tf.Tensor(1.6674019, shape=(), dtype=float32)\n",
      "FID mean score: 1.6140038 FID std score: 0.048843607\n"
     ]
    },
    {
     "name": "stderr",
     "output_type": "stream",
     "text": [
      "\n"
     ]
    }
   ],
   "source": [
    "num_experiments = 10\n",
    "N = 10000\n",
    "num_of_images = 500\n",
    "\n",
    "scores = []\n",
    "eval_seed = 2024\n",
    "torch.manual_seed(eval_seed)\n",
    "np.random.seed(eval_seed)\n",
    "\n",
    "model = sarnet_vae\n",
    "\n",
    "for i in tqdm(range(num_experiments)):\n",
    "    generated_images = []\n",
    "    for num in range(0, N, num_of_images):\n",
    "        img = generate_image(\n",
    "            model,\n",
    "            patch_dim,\n",
    "            latent_dim=latent_dim,\n",
    "            th=0.105,\n",
    "            num_of_images=num_of_images,\n",
    "            plot=False,\n",
    "        )\n",
    "\n",
    "        generated_images.append(img)\n",
    "    score = get_fid_score_mnist(generated_images, N)\n",
    "    scores.append(score)\n",
    "    print(f\"FID in {i}\", score)\n",
    "\n",
    "scores = np.array(scores)\n",
    "print(\"FID mean score:\", scores.mean(), \"FID std score:\", scores.std())"
   ]
  },
  {
   "cell_type": "markdown",
   "metadata": {},
   "source": [
    "### 8 latent dim"
   ]
  },
  {
   "cell_type": "code",
   "execution_count": 18,
   "metadata": {},
   "outputs": [
    {
     "name": "stdout",
     "output_type": "stream",
     "text": [
      "After epoch 10 avg_los: 110.580780598\n",
      "Overall loss: 110.68486022949219, Monitored loss: 0.01926465705037117\n",
      "After epoch 20 avg_los: 101.662504612\n",
      "Overall loss: 103.98209381103516, Monitored loss: 0.01624610833823681\n",
      "After epoch 30 avg_los: 97.582213736\n",
      "Overall loss: 101.32283020019531, Monitored loss: 0.014811907894909382\n",
      "After epoch 40 avg_los: 94.649006666\n",
      "Overall loss: 100.26241302490234, Monitored loss: 0.014245101250708103\n",
      "After epoch 50 avg_los: 92.694809267\n",
      "Overall loss: 99.70991516113281, Monitored loss: 0.014412852935492992\n",
      "After epoch 60 avg_los: 90.935289629\n",
      "Overall loss: 99.42066192626953, Monitored loss: 0.014052118174731731\n",
      "After epoch 70 avg_los: 89.541773492\n",
      "Overall loss: 98.9957275390625, Monitored loss: 0.01390837598592043\n",
      "After epoch 80 avg_los: 88.390013860\n",
      "Overall loss: 99.11201477050781, Monitored loss: 0.013992482796311378\n",
      "After epoch 90 avg_los: 87.337165139\n",
      "Overall loss: 99.3140640258789, Monitored loss: 0.014063114300370216\n",
      "After epoch 100 avg_los: 86.463396560\n",
      "Overall loss: 99.93278503417969, Monitored loss: 0.014371040277183056\n",
      "After epoch 110 avg_los: 85.624826881\n",
      "Overall loss: 99.75211334228516, Monitored loss: 0.01433686912059784\n",
      "After epoch 120 avg_los: 84.969424190\n",
      "Overall loss: 100.26889038085938, Monitored loss: 0.014509663917124271\n",
      "After epoch 130 avg_los: 84.352832698\n",
      "Overall loss: 100.64965057373047, Monitored loss: 0.014490003697574139\n",
      "After epoch 140 avg_los: 83.765951241\n",
      "Overall loss: 101.08106231689453, Monitored loss: 0.014619026333093643\n",
      "After epoch 150 avg_los: 83.104439495\n",
      "Overall loss: 101.38936614990234, Monitored loss: 0.014797668904066086\n",
      "After epoch 160 avg_los: 82.753768169\n",
      "Overall loss: 101.88041687011719, Monitored loss: 0.014989037998020649\n",
      "After epoch 170 avg_los: 82.303063138\n",
      "Overall loss: 102.04998016357422, Monitored loss: 0.01489155925810337\n",
      "After epoch 180 avg_los: 81.936747537\n",
      "Overall loss: 103.07756042480469, Monitored loss: 0.015193292871117592\n",
      "After epoch 190 avg_los: 81.557713249\n",
      "Overall loss: 103.48139953613281, Monitored loss: 0.015409444458782673\n",
      "After epoch 200 avg_los: 81.185831548\n",
      "Overall loss: 104.01669311523438, Monitored loss: 0.015470219776034355\n"
     ]
    }
   ],
   "source": [
    "latent_dim = 8\n",
    "in_latent_dim = 8\n",
    "\n",
    "hidden_channels_1 = 1\n",
    "hidden_channels_2 = 2\n",
    "hidden_img_size = image_dim // 2\n",
    "hidden_patch_size = patch_dim // 2\n",
    "\n",
    "seed = 1234\n",
    "torch.manual_seed(seed)\n",
    "np.random.seed(seed)\n",
    "\n",
    "layers = nn.Sequential(\n",
    "    SemiDense(image_dim, hidden_img_size, 1, hidden_channels_1, patch_dim, hidden_patch_size, shift=True, latent_dim=in_latent_dim),\n",
    "    nn.ReLU(),\n",
    "    SemiDense(hidden_img_size, image_dim, hidden_channels_1, hidden_channels_2, hidden_patch_size, patch_dim, shift=False, latent_dim=in_latent_dim),\n",
    "    nn.ReLU(),\n",
    "    SemiDense(image_dim, image_dim, hidden_channels_2, 1, patch_dim, patch_dim, shift=False, latent_dim=in_latent_dim),\n",
    "    nn.Sigmoid()\n",
    ")\n",
    "custom_loss = nn.MSELoss(reduction=\"mean\")\n",
    "bce_loss = nn.BCELoss(reduction=\"sum\")\n",
    "\n",
    "sarnet_vae = sarNet_VAE(layers, bce_loss, latent_dim, image_dim)\n",
    "sarnet_vae.to(device)\n",
    "optimizer = torch.optim.Adam(sarnet_vae.parameters(), lr=1e-3)\n",
    "train_loader, test_loader = prepare_dataset(\n",
    "    standarized_data, standarized_test_data, batch_size=64, device=device\n",
    ")\n",
    "\n",
    "model = sarnet_vae\n",
    "max_epochs = 200\n",
    "\n",
    "for epoch in range(max_epochs):\n",
    "    model.train()\n",
    "    avg_loss = 0\n",
    "    for x in train_loader:\n",
    "        x = x[0].reshape(x[0].size(0), 1, 28, 28)\n",
    "        optimizer.zero_grad()\n",
    "\n",
    "        recon_batch, mu, logvar = model(x)\n",
    "        loss = vae_loss_function(recon_batch, x, mu, logvar, model)\n",
    "\n",
    "        # Backward pass and optimize\n",
    "        loss.backward()\n",
    "        optimizer.step()\n",
    "        avg_loss += loss.item()\n",
    "\n",
    "    avg_loss /= len(train_loader.dataset)\n",
    "\n",
    "    if (epoch + 1) % 10 == 0:\n",
    "        print(f\"After epoch {epoch+1} avg_los: {avg_loss:.9f}\")\n",
    "        test_loss = compute_vae_error(model, test_loader, vae_loss_function, custom_loss)\n",
    "\n",
    "        '''if (epoch + 1) > 50:# == 0:\n",
    "            model.eval()\n",
    "            generated_images = []\n",
    "            N = 800\n",
    "            num_of_images = 400\n",
    "            for num in tqdm(range(0, N, num_of_images)):\n",
    "                img = generate_image(\n",
    "                    model,\n",
    "                    patch_dim,\n",
    "                    latent_dim=latent_dim,\n",
    "                    th=0.105,\n",
    "                    num_of_images=num_of_images,\n",
    "                    plot=False,\n",
    "                )\n",
    "\n",
    "                generated_images.append(img)\n",
    "\n",
    "            score = get_fid_score_mnist(generated_images, N)\n",
    "            print(f\"FID\", score)\n",
    "            if score < 1.45:\n",
    "                break'''"
   ]
  },
  {
   "cell_type": "code",
   "execution_count": 21,
   "metadata": {},
   "outputs": [
    {
     "name": "stderr",
     "output_type": "stream",
     "text": [
      " 10%|█         | 1/10 [00:05<00:45,  5.01s/it]"
     ]
    },
    {
     "name": "stdout",
     "output_type": "stream",
     "text": [
      "FID in 0 tf.Tensor(2.0778663, shape=(), dtype=float32)\n"
     ]
    },
    {
     "name": "stderr",
     "output_type": "stream",
     "text": [
      " 20%|██        | 2/10 [00:11<00:45,  5.70s/it]"
     ]
    },
    {
     "name": "stdout",
     "output_type": "stream",
     "text": [
      "FID in 1 tf.Tensor(2.2859743, shape=(), dtype=float32)\n"
     ]
    },
    {
     "name": "stderr",
     "output_type": "stream",
     "text": [
      " 30%|███       | 3/10 [00:16<00:39,  5.67s/it]"
     ]
    },
    {
     "name": "stdout",
     "output_type": "stream",
     "text": [
      "FID in 2 tf.Tensor(2.0576282, shape=(), dtype=float32)\n"
     ]
    },
    {
     "name": "stderr",
     "output_type": "stream",
     "text": [
      " 40%|████      | 4/10 [00:22<00:33,  5.56s/it]"
     ]
    },
    {
     "name": "stdout",
     "output_type": "stream",
     "text": [
      "FID in 3 tf.Tensor(1.9714533, shape=(), dtype=float32)\n"
     ]
    },
    {
     "name": "stderr",
     "output_type": "stream",
     "text": [
      " 50%|█████     | 5/10 [00:27<00:28,  5.60s/it]"
     ]
    },
    {
     "name": "stdout",
     "output_type": "stream",
     "text": [
      "FID in 4 tf.Tensor(2.1391666, shape=(), dtype=float32)\n"
     ]
    },
    {
     "name": "stderr",
     "output_type": "stream",
     "text": [
      " 60%|██████    | 6/10 [00:33<00:22,  5.63s/it]"
     ]
    },
    {
     "name": "stdout",
     "output_type": "stream",
     "text": [
      "FID in 5 tf.Tensor(2.1984015, shape=(), dtype=float32)\n"
     ]
    },
    {
     "name": "stderr",
     "output_type": "stream",
     "text": [
      " 70%|███████   | 7/10 [00:39<00:17,  5.81s/it]"
     ]
    },
    {
     "name": "stdout",
     "output_type": "stream",
     "text": [
      "FID in 6 tf.Tensor(2.176451, shape=(), dtype=float32)\n"
     ]
    },
    {
     "name": "stderr",
     "output_type": "stream",
     "text": [
      " 80%|████████  | 8/10 [00:45<00:11,  5.75s/it]"
     ]
    },
    {
     "name": "stdout",
     "output_type": "stream",
     "text": [
      "FID in 7 tf.Tensor(2.0279753, shape=(), dtype=float32)\n"
     ]
    },
    {
     "name": "stderr",
     "output_type": "stream",
     "text": [
      " 90%|█████████ | 9/10 [00:50<00:05,  5.62s/it]"
     ]
    },
    {
     "name": "stdout",
     "output_type": "stream",
     "text": [
      "FID in 8 tf.Tensor(2.1198962, shape=(), dtype=float32)\n"
     ]
    },
    {
     "name": "stderr",
     "output_type": "stream",
     "text": [
      "100%|██████████| 10/10 [00:57<00:00,  5.72s/it]"
     ]
    },
    {
     "name": "stdout",
     "output_type": "stream",
     "text": [
      "FID in 9 tf.Tensor(2.1960633, shape=(), dtype=float32)\n",
      "FID mean score: 2.1250875 FID std score: 0.08886803\n"
     ]
    },
    {
     "name": "stderr",
     "output_type": "stream",
     "text": [
      "\n"
     ]
    }
   ],
   "source": [
    "num_experiments = 10\n",
    "N = 10000\n",
    "num_of_images = 500\n",
    "\n",
    "scores = []\n",
    "eval_seed = 2024\n",
    "torch.manual_seed(eval_seed)\n",
    "np.random.seed(eval_seed)\n",
    "\n",
    "model = sarnet_vae\n",
    "\n",
    "for i in tqdm(range(num_experiments)):\n",
    "    generated_images = []\n",
    "    for num in range(0, N, num_of_images):\n",
    "        img = generate_image(\n",
    "            model,\n",
    "            patch_dim,\n",
    "            latent_dim=latent_dim,\n",
    "            th=0.095,\n",
    "            num_of_images=num_of_images,\n",
    "            plot=False,\n",
    "        )\n",
    "\n",
    "        generated_images.append(img)\n",
    "    score = get_fid_score_mnist(generated_images, N)\n",
    "    scores.append(score)\n",
    "    print(f\"FID in {i}\", score)\n",
    "\n",
    "scores = np.array(scores)\n",
    "print(\"FID mean score:\", scores.mean(), \"FID std score:\", scores.std())"
   ]
  },
  {
   "cell_type": "markdown",
   "metadata": {},
   "source": [
    "### Calculate the mean FID score in 50 experiments (latent dim 128)"
   ]
  },
  {
   "cell_type": "code",
   "execution_count": 124,
   "metadata": {},
   "outputs": [
    {
     "name": "stderr",
     "output_type": "stream",
     "text": [
      "  2%|▏         | 1/50 [00:07<05:48,  7.11s/it]"
     ]
    },
    {
     "name": "stdout",
     "output_type": "stream",
     "text": [
      "FID in 0 tf.Tensor(1.5064803, shape=(), dtype=float32)\n"
     ]
    },
    {
     "name": "stderr",
     "output_type": "stream",
     "text": [
      "  4%|▍         | 2/50 [00:13<05:28,  6.85s/it]"
     ]
    },
    {
     "name": "stdout",
     "output_type": "stream",
     "text": [
      "FID in 1 tf.Tensor(1.6412711, shape=(), dtype=float32)\n"
     ]
    },
    {
     "name": "stderr",
     "output_type": "stream",
     "text": [
      "  6%|▌         | 3/50 [00:19<05:04,  6.49s/it]"
     ]
    },
    {
     "name": "stdout",
     "output_type": "stream",
     "text": [
      "FID in 2 tf.Tensor(1.5744945, shape=(), dtype=float32)\n"
     ]
    },
    {
     "name": "stderr",
     "output_type": "stream",
     "text": [
      "  8%|▊         | 4/50 [00:25<04:48,  6.27s/it]"
     ]
    },
    {
     "name": "stdout",
     "output_type": "stream",
     "text": [
      "FID in 3 tf.Tensor(1.6110754, shape=(), dtype=float32)\n"
     ]
    },
    {
     "name": "stderr",
     "output_type": "stream",
     "text": [
      " 10%|█         | 5/50 [00:31<04:36,  6.14s/it]"
     ]
    },
    {
     "name": "stdout",
     "output_type": "stream",
     "text": [
      "FID in 4 tf.Tensor(1.4232639, shape=(), dtype=float32)\n"
     ]
    },
    {
     "name": "stderr",
     "output_type": "stream",
     "text": [
      " 12%|█▏        | 6/50 [00:37<04:26,  6.07s/it]"
     ]
    },
    {
     "name": "stdout",
     "output_type": "stream",
     "text": [
      "FID in 5 tf.Tensor(1.484615, shape=(), dtype=float32)\n"
     ]
    },
    {
     "name": "stderr",
     "output_type": "stream",
     "text": [
      " 14%|█▍        | 7/50 [00:43<04:17,  5.99s/it]"
     ]
    },
    {
     "name": "stdout",
     "output_type": "stream",
     "text": [
      "FID in 6 tf.Tensor(1.5062383, shape=(), dtype=float32)\n"
     ]
    },
    {
     "name": "stderr",
     "output_type": "stream",
     "text": [
      " 16%|█▌        | 8/50 [00:49<04:15,  6.08s/it]"
     ]
    },
    {
     "name": "stdout",
     "output_type": "stream",
     "text": [
      "FID in 7 tf.Tensor(1.376687, shape=(), dtype=float32)\n"
     ]
    },
    {
     "name": "stderr",
     "output_type": "stream",
     "text": [
      " 18%|█▊        | 9/50 [00:56<04:16,  6.26s/it]"
     ]
    },
    {
     "name": "stdout",
     "output_type": "stream",
     "text": [
      "FID in 8 tf.Tensor(1.5109735, shape=(), dtype=float32)\n"
     ]
    },
    {
     "name": "stderr",
     "output_type": "stream",
     "text": [
      " 20%|██        | 10/50 [01:02<04:05,  6.14s/it]"
     ]
    },
    {
     "name": "stdout",
     "output_type": "stream",
     "text": [
      "FID in 9 tf.Tensor(1.6637442, shape=(), dtype=float32)\n"
     ]
    },
    {
     "name": "stderr",
     "output_type": "stream",
     "text": [
      " 22%|██▏       | 11/50 [01:08<03:55,  6.05s/it]"
     ]
    },
    {
     "name": "stdout",
     "output_type": "stream",
     "text": [
      "FID in 10 tf.Tensor(1.5076498, shape=(), dtype=float32)\n"
     ]
    },
    {
     "name": "stderr",
     "output_type": "stream",
     "text": [
      " 24%|██▍       | 12/50 [01:13<03:47,  6.00s/it]"
     ]
    },
    {
     "name": "stdout",
     "output_type": "stream",
     "text": [
      "FID in 11 tf.Tensor(1.5369129, shape=(), dtype=float32)\n"
     ]
    },
    {
     "name": "stderr",
     "output_type": "stream",
     "text": [
      " 26%|██▌       | 13/50 [01:19<03:41,  5.98s/it]"
     ]
    },
    {
     "name": "stdout",
     "output_type": "stream",
     "text": [
      "FID in 12 tf.Tensor(1.4217148, shape=(), dtype=float32)\n"
     ]
    },
    {
     "name": "stderr",
     "output_type": "stream",
     "text": [
      " 28%|██▊       | 14/50 [01:28<04:04,  6.78s/it]"
     ]
    },
    {
     "name": "stdout",
     "output_type": "stream",
     "text": [
      "FID in 13 tf.Tensor(1.6384152, shape=(), dtype=float32)\n"
     ]
    },
    {
     "name": "stderr",
     "output_type": "stream",
     "text": [
      " 30%|███       | 15/50 [01:37<04:20,  7.45s/it]"
     ]
    },
    {
     "name": "stdout",
     "output_type": "stream",
     "text": [
      "FID in 14 tf.Tensor(1.5757356, shape=(), dtype=float32)\n"
     ]
    },
    {
     "name": "stderr",
     "output_type": "stream",
     "text": [
      " 32%|███▏      | 16/50 [01:45<04:16,  7.54s/it]"
     ]
    },
    {
     "name": "stdout",
     "output_type": "stream",
     "text": [
      "FID in 15 tf.Tensor(1.6480758, shape=(), dtype=float32)\n"
     ]
    },
    {
     "name": "stderr",
     "output_type": "stream",
     "text": [
      " 34%|███▍      | 17/50 [01:53<04:12,  7.65s/it]"
     ]
    },
    {
     "name": "stdout",
     "output_type": "stream",
     "text": [
      "FID in 16 tf.Tensor(1.5841904, shape=(), dtype=float32)\n"
     ]
    },
    {
     "name": "stderr",
     "output_type": "stream",
     "text": [
      " 36%|███▌      | 18/50 [02:00<04:04,  7.64s/it]"
     ]
    },
    {
     "name": "stdout",
     "output_type": "stream",
     "text": [
      "FID in 17 tf.Tensor(1.5352811, shape=(), dtype=float32)\n"
     ]
    },
    {
     "name": "stderr",
     "output_type": "stream",
     "text": [
      " 38%|███▊      | 19/50 [02:08<03:59,  7.72s/it]"
     ]
    },
    {
     "name": "stdout",
     "output_type": "stream",
     "text": [
      "FID in 18 tf.Tensor(1.5073098, shape=(), dtype=float32)\n"
     ]
    },
    {
     "name": "stderr",
     "output_type": "stream",
     "text": [
      " 40%|████      | 20/50 [02:18<04:07,  8.25s/it]"
     ]
    },
    {
     "name": "stdout",
     "output_type": "stream",
     "text": [
      "FID in 19 tf.Tensor(1.4826853, shape=(), dtype=float32)\n"
     ]
    },
    {
     "name": "stderr",
     "output_type": "stream",
     "text": [
      " 42%|████▏     | 21/50 [02:27<04:10,  8.65s/it]"
     ]
    },
    {
     "name": "stdout",
     "output_type": "stream",
     "text": [
      "FID in 20 tf.Tensor(1.5737637, shape=(), dtype=float32)\n"
     ]
    },
    {
     "name": "stderr",
     "output_type": "stream",
     "text": [
      " 44%|████▍     | 22/50 [02:35<03:53,  8.34s/it]"
     ]
    },
    {
     "name": "stdout",
     "output_type": "stream",
     "text": [
      "FID in 21 tf.Tensor(1.7204905, shape=(), dtype=float32)\n"
     ]
    },
    {
     "name": "stderr",
     "output_type": "stream",
     "text": [
      " 46%|████▌     | 23/50 [02:43<03:42,  8.23s/it]"
     ]
    },
    {
     "name": "stdout",
     "output_type": "stream",
     "text": [
      "FID in 22 tf.Tensor(1.4460676, shape=(), dtype=float32)\n"
     ]
    },
    {
     "name": "stderr",
     "output_type": "stream",
     "text": [
      " 48%|████▊     | 24/50 [02:51<03:29,  8.06s/it]"
     ]
    },
    {
     "name": "stdout",
     "output_type": "stream",
     "text": [
      "FID in 23 tf.Tensor(1.4777502, shape=(), dtype=float32)\n"
     ]
    },
    {
     "name": "stderr",
     "output_type": "stream",
     "text": [
      " 50%|█████     | 25/50 [02:59<03:21,  8.05s/it]"
     ]
    },
    {
     "name": "stdout",
     "output_type": "stream",
     "text": [
      "FID in 24 tf.Tensor(1.5379815, shape=(), dtype=float32)\n"
     ]
    },
    {
     "name": "stderr",
     "output_type": "stream",
     "text": [
      " 52%|█████▏    | 26/50 [03:07<03:17,  8.23s/it]"
     ]
    },
    {
     "name": "stdout",
     "output_type": "stream",
     "text": [
      "FID in 25 tf.Tensor(1.5446373, shape=(), dtype=float32)\n"
     ]
    },
    {
     "name": "stderr",
     "output_type": "stream",
     "text": [
      " 54%|█████▍    | 27/50 [03:15<03:09,  8.23s/it]"
     ]
    },
    {
     "name": "stdout",
     "output_type": "stream",
     "text": [
      "FID in 26 tf.Tensor(1.452112, shape=(), dtype=float32)\n"
     ]
    },
    {
     "name": "stderr",
     "output_type": "stream",
     "text": [
      " 56%|█████▌    | 28/50 [03:24<03:01,  8.24s/it]"
     ]
    },
    {
     "name": "stdout",
     "output_type": "stream",
     "text": [
      "FID in 27 tf.Tensor(1.4359276, shape=(), dtype=float32)\n"
     ]
    },
    {
     "name": "stderr",
     "output_type": "stream",
     "text": [
      " 58%|█████▊    | 29/50 [03:32<02:54,  8.32s/it]"
     ]
    },
    {
     "name": "stdout",
     "output_type": "stream",
     "text": [
      "FID in 28 tf.Tensor(1.6517402, shape=(), dtype=float32)\n"
     ]
    },
    {
     "name": "stderr",
     "output_type": "stream",
     "text": [
      " 60%|██████    | 30/50 [03:41<02:50,  8.54s/it]"
     ]
    },
    {
     "name": "stdout",
     "output_type": "stream",
     "text": [
      "FID in 29 tf.Tensor(1.4883446, shape=(), dtype=float32)\n"
     ]
    },
    {
     "name": "stderr",
     "output_type": "stream",
     "text": [
      " 62%|██████▏   | 31/50 [03:49<02:39,  8.40s/it]"
     ]
    },
    {
     "name": "stdout",
     "output_type": "stream",
     "text": [
      "FID in 30 tf.Tensor(1.5183897, shape=(), dtype=float32)\n"
     ]
    },
    {
     "name": "stderr",
     "output_type": "stream",
     "text": [
      " 64%|██████▍   | 32/50 [03:59<02:35,  8.65s/it]"
     ]
    },
    {
     "name": "stdout",
     "output_type": "stream",
     "text": [
      "FID in 31 tf.Tensor(1.5628728, shape=(), dtype=float32)\n"
     ]
    },
    {
     "name": "stderr",
     "output_type": "stream",
     "text": [
      " 66%|██████▌   | 33/50 [04:08<02:30,  8.85s/it]"
     ]
    },
    {
     "name": "stdout",
     "output_type": "stream",
     "text": [
      "FID in 32 tf.Tensor(1.4964213, shape=(), dtype=float32)\n"
     ]
    },
    {
     "name": "stderr",
     "output_type": "stream",
     "text": [
      " 68%|██████▊   | 34/50 [04:17<02:21,  8.87s/it]"
     ]
    },
    {
     "name": "stdout",
     "output_type": "stream",
     "text": [
      "FID in 33 tf.Tensor(1.4377549, shape=(), dtype=float32)\n"
     ]
    },
    {
     "name": "stderr",
     "output_type": "stream",
     "text": [
      " 70%|███████   | 35/50 [04:28<02:24,  9.63s/it]"
     ]
    },
    {
     "name": "stdout",
     "output_type": "stream",
     "text": [
      "FID in 34 tf.Tensor(1.4400384, shape=(), dtype=float32)\n"
     ]
    },
    {
     "name": "stderr",
     "output_type": "stream",
     "text": [
      " 72%|███████▏  | 36/50 [04:38<02:14,  9.59s/it]"
     ]
    },
    {
     "name": "stdout",
     "output_type": "stream",
     "text": [
      "FID in 35 tf.Tensor(1.5157309, shape=(), dtype=float32)\n"
     ]
    },
    {
     "name": "stderr",
     "output_type": "stream",
     "text": [
      " 74%|███████▍  | 37/50 [04:47<02:02,  9.43s/it]"
     ]
    },
    {
     "name": "stdout",
     "output_type": "stream",
     "text": [
      "FID in 36 tf.Tensor(1.451925, shape=(), dtype=float32)\n"
     ]
    },
    {
     "name": "stderr",
     "output_type": "stream",
     "text": [
      " 76%|███████▌  | 38/50 [04:56<01:54,  9.52s/it]"
     ]
    },
    {
     "name": "stdout",
     "output_type": "stream",
     "text": [
      "FID in 37 tf.Tensor(1.6176131, shape=(), dtype=float32)\n"
     ]
    },
    {
     "name": "stderr",
     "output_type": "stream",
     "text": [
      " 78%|███████▊  | 39/50 [05:06<01:44,  9.51s/it]"
     ]
    },
    {
     "name": "stdout",
     "output_type": "stream",
     "text": [
      "FID in 38 tf.Tensor(1.6772692, shape=(), dtype=float32)\n"
     ]
    },
    {
     "name": "stderr",
     "output_type": "stream",
     "text": [
      " 80%|████████  | 40/50 [05:18<01:41, 10.13s/it]"
     ]
    },
    {
     "name": "stdout",
     "output_type": "stream",
     "text": [
      "FID in 39 tf.Tensor(1.662778, shape=(), dtype=float32)\n"
     ]
    },
    {
     "name": "stderr",
     "output_type": "stream",
     "text": [
      " 82%|████████▏ | 41/50 [05:29<01:35, 10.66s/it]"
     ]
    },
    {
     "name": "stdout",
     "output_type": "stream",
     "text": [
      "FID in 40 tf.Tensor(1.5104998, shape=(), dtype=float32)\n"
     ]
    },
    {
     "name": "stderr",
     "output_type": "stream",
     "text": [
      " 84%|████████▍ | 42/50 [05:38<01:21, 10.13s/it]"
     ]
    },
    {
     "name": "stdout",
     "output_type": "stream",
     "text": [
      "FID in 41 tf.Tensor(1.5088065, shape=(), dtype=float32)\n"
     ]
    },
    {
     "name": "stderr",
     "output_type": "stream",
     "text": [
      " 86%|████████▌ | 43/50 [05:44<01:00,  8.67s/it]"
     ]
    },
    {
     "name": "stdout",
     "output_type": "stream",
     "text": [
      "FID in 42 tf.Tensor(1.6617346, shape=(), dtype=float32)\n"
     ]
    },
    {
     "name": "stderr",
     "output_type": "stream",
     "text": [
      " 88%|████████▊ | 44/50 [05:50<00:48,  8.05s/it]"
     ]
    },
    {
     "name": "stdout",
     "output_type": "stream",
     "text": [
      "FID in 43 tf.Tensor(1.4216286, shape=(), dtype=float32)\n"
     ]
    },
    {
     "name": "stderr",
     "output_type": "stream",
     "text": [
      " 90%|█████████ | 45/50 [06:01<00:43,  8.74s/it]"
     ]
    },
    {
     "name": "stdout",
     "output_type": "stream",
     "text": [
      "FID in 44 tf.Tensor(1.5414853, shape=(), dtype=float32)\n"
     ]
    },
    {
     "name": "stderr",
     "output_type": "stream",
     "text": [
      " 92%|█████████▏| 46/50 [06:23<00:51, 12.91s/it]"
     ]
    },
    {
     "name": "stdout",
     "output_type": "stream",
     "text": [
      "FID in 45 tf.Tensor(1.53044, shape=(), dtype=float32)\n"
     ]
    },
    {
     "name": "stderr",
     "output_type": "stream",
     "text": [
      " 94%|█████████▍| 47/50 [06:30<00:33, 11.20s/it]"
     ]
    },
    {
     "name": "stdout",
     "output_type": "stream",
     "text": [
      "FID in 46 tf.Tensor(1.4274075, shape=(), dtype=float32)\n"
     ]
    },
    {
     "name": "stderr",
     "output_type": "stream",
     "text": [
      " 96%|█████████▌| 48/50 [06:37<00:19,  9.70s/it]"
     ]
    },
    {
     "name": "stdout",
     "output_type": "stream",
     "text": [
      "FID in 47 tf.Tensor(1.620815, shape=(), dtype=float32)\n"
     ]
    },
    {
     "name": "stderr",
     "output_type": "stream",
     "text": [
      " 98%|█████████▊| 49/50 [06:43<00:08,  8.56s/it]"
     ]
    },
    {
     "name": "stdout",
     "output_type": "stream",
     "text": [
      "FID in 48 tf.Tensor(1.5336194, shape=(), dtype=float32)\n"
     ]
    },
    {
     "name": "stderr",
     "output_type": "stream",
     "text": [
      "100%|██████████| 50/50 [06:48<00:00,  8.18s/it]"
     ]
    },
    {
     "name": "stdout",
     "output_type": "stream",
     "text": [
      "FID in 49 tf.Tensor(1.5509784, shape=(), dtype=float32)\n",
      "FID mean score: 1.5350769 FID std score: 0.080374084\n"
     ]
    },
    {
     "name": "stderr",
     "output_type": "stream",
     "text": [
      "\n"
     ]
    }
   ],
   "source": [
    "num_experiments = 50\n",
    "N = 10000\n",
    "num_of_images = 500\n",
    "\n",
    "scores = []\n",
    "eval_seed = 2024\n",
    "torch.manual_seed(eval_seed)\n",
    "np.random.seed(eval_seed)\n",
    "\n",
    "model = sarnet_vae\n",
    "\n",
    "for i in tqdm(range(num_experiments)):\n",
    "    generated_images = []\n",
    "    for num in range(0, N, num_of_images):\n",
    "        img = generate_image(\n",
    "            model,\n",
    "            patch_dim,\n",
    "            latent_dim=latent_dim,\n",
    "            th=0.105,\n",
    "            num_of_images=num_of_images,\n",
    "            plot=False,\n",
    "        )\n",
    "\n",
    "        generated_images.append(img)\n",
    "    score = get_fid_score_mnist(generated_images, N)\n",
    "    scores.append(score)\n",
    "    print(f\"FID in {i}\", score)\n",
    "\n",
    "scores = np.array(scores)\n",
    "print(\"FID mean score:\", scores.mean(), \"FID std score:\", scores.std())"
   ]
  },
  {
   "cell_type": "markdown",
   "metadata": {},
   "source": [
    "### Calculate the score of KNN discriminator (latent dim 128)"
   ]
  },
  {
   "cell_type": "code",
   "execution_count": 106,
   "metadata": {},
   "outputs": [
    {
     "name": "stderr",
     "output_type": "stream",
     "text": [
      "100%|██████████| 2/2 [00:00<00:00,  3.69it/s]\n"
     ]
    }
   ],
   "source": [
    "from sklearn.model_selection import train_test_split\n",
    "from sklearn.neighbors import KNeighborsClassifier\n",
    "from sklearn.metrics import accuracy_score\n",
    "\n",
    "# prepare the generated and original data\n",
    "\n",
    "generated_images = []\n",
    "N, num_of_images = 1000, 500\n",
    "for num in tqdm(range(0, N, num_of_images)):\n",
    "    img = generate_image(\n",
    "        model,\n",
    "        patch_dim,\n",
    "        latent_dim=latent_dim,\n",
    "        th=0.095,\n",
    "        num_of_images=num_of_images,\n",
    "        plot=False,\n",
    "    )\n",
    "    generated_images.append(img)\n",
    "\n",
    "X_gen = np.array(generated_images).reshape(N, -1)\n",
    "X_orig = standarized_test_data[np.random.choice(standarized_test_data.shape[0], N, replace=True)].reshape(N, -1)\n",
    "\n",
    "X = np.vstack([X_orig, X_gen])\n",
    "y = np.array(X_orig.shape[0] * [1] + X_gen.shape[0] * [0])\n",
    "\n",
    "# Split the dataset into a training set and a test set\n",
    "X_train, X_test, y_train, y_test = train_test_split(\n",
    "    X, y, test_size=0.3, random_state=42\n",
    ")"
   ]
  },
  {
   "cell_type": "code",
   "execution_count": 111,
   "metadata": {},
   "outputs": [
    {
     "name": "stdout",
     "output_type": "stream",
     "text": [
      "Accuracy: 60.17%\n"
     ]
    }
   ],
   "source": [
    "# Create kNN classifier. You can adjust the number of neighbors (n_neighbors)\n",
    "knn = KNeighborsClassifier(n_neighbors=4)\n",
    "\n",
    "# Train the classifier\n",
    "knn.fit(X_train, y_train)\n",
    "\n",
    "# Predict on the test set\n",
    "y_pred = knn.predict(X_test)\n",
    "\n",
    "# Calculate the accuracy\n",
    "accuracy = accuracy_score(y_test, y_pred)\n",
    "print(f\"Accuracy: {accuracy * 100:.2f}%\")"
   ]
  },
  {
   "cell_type": "code",
   "execution_count": 112,
   "metadata": {},
   "outputs": [
    {
     "data": {
      "image/png": "[encoded data removed]",
      "text/plain": [
       "<Figure size 800x600 with 2 Axes>"
      ]
     },
     "metadata": {},
     "output_type": "display_data"
    }
   ],
   "source": [
    "import numpy as np\n",
    "import pandas as pd\n",
    "from sklearn.metrics import confusion_matrix\n",
    "import matplotlib.pyplot as plt\n",
    "import seaborn as sns\n",
    "\n",
    "# Generating the confusion matrix\n",
    "cm = confusion_matrix(y_test, y_pred)\n",
    "\n",
    "# Displaying the confusion matrix\n",
    "plt.figure(figsize=(8, 6))\n",
    "ax = sns.heatmap(\n",
    "    pd.DataFrame(cm, dtype=int),\n",
    "    annot=True,\n",
    "    fmt=\"d\",\n",
    "    cmap=\"Blues\",\n",
    "    xticklabels=[\"Generated\", \"True\"],  # data.target_names,\n",
    "    yticklabels=[\"Generated\", \"True\"],  # ata.target_names,\n",
    ")\n",
    "#ax.text(0.5, 1.5, cm[1, 0])\n",
    "#ax.text(1.5, 1.5, cm[1, 1])\n",
    "plt.xlabel(\"Predicted\")\n",
    "plt.ylabel(\"Actual\")\n",
    "plt.title(\"Confusion Matrix for custom Transformer\")\n",
    "plt.show()"
   ]
  },
  {
   "cell_type": "markdown",
   "metadata": {},
   "source": [
    "# Visualization"
   ]
  },
  {
   "cell_type": "markdown",
   "metadata": {},
   "source": [
    "### Generation from scratch"
   ]
  },
  {
   "cell_type": "code",
   "execution_count": 122,
   "metadata": {},
   "outputs": [
    {
     "name": "stderr",
     "output_type": "stream",
     "text": [
      "100%|██████████| 20/20 [00:01<00:00, 19.54it/s]\n"
     ]
    },
    {
     "data": {
      "image/png": "[encoded data removed]",
      "text/plain": [
       "<Figure size 640x480 with 20 Axes>"
      ]
     },
     "metadata": {},
     "output_type": "display_data"
    }
   ],
   "source": [
    "generated_imgs = []\n",
    "num_of_images = 20\n",
    "columns = 5\n",
    "rows = math.ceil(num_of_images / columns)\n",
    "\n",
    "np.random.seed(seed=20)\n",
    "for i in tqdm(range(num_of_images)):\n",
    "    plt.subplot(rows, columns, i + 1)\n",
    "    plt.axis(\"off\")\n",
    "    img = generate_image(\n",
    "        sarnet_vae,\n",
    "        patch_dim,\n",
    "        th = 0.105,\n",
    "        latent_dim=latent_dim\n",
    "    )\n",
    "    generated_imgs.append(img)\n",
    "\n",
    "plt.tight_layout()\n",
    "plt.show()"
   ]
  },
  {
   "cell_type": "markdown",
   "metadata": {},
   "source": [
    "### Reconstruction part of an image\n",
    "Here instead of using random latent vector from $N(0,1)$, we use \n",
    "random latent vector from $N(0, (\\frac{2}{3})^2)$"
   ]
  },
  {
   "cell_type": "code",
   "execution_count": 123,
   "metadata": {},
   "outputs": [
    {
     "data": {
      "image/png": "[encoded data removed]",
      "text/plain": [
       "<Figure size 640x480 with 2 Axes>"
      ]
     },
     "metadata": {},
     "output_type": "display_data"
    },
    {
     "name": "stderr",
     "output_type": "stream",
     "text": [
      "100%|██████████| 20/20 [00:00<00:00, 22.23it/s]\n"
     ]
    },
    {
     "data": {
      "image/png": "[encoded data removed]",
      "text/plain": [
       "<Figure size 640x480 with 20 Axes>"
      ]
     },
     "metadata": {},
     "output_type": "display_data"
    }
   ],
   "source": [
    "to_reconstruct = standarized_test_data[9]\n",
    "pixels_seed = 384\n",
    "plt.subplot(1, 2, 1)\n",
    "plt.imshow(to_reconstruct, cmap=\"gray\")\n",
    "start_image, indexes_of_patches = init_image(\n",
    "    patch_dim, to_reconstruct, pixels_seed=pixels_seed\n",
    ")\n",
    "plt.subplot(1, 2, 2)\n",
    "plt.imshow(start_image.reshape(28, 28), cmap=\"gray\")\n",
    "plt.show()\n",
    "\n",
    "generated_imgs = []\n",
    "num_of_images = 20\n",
    "columns = 5\n",
    "rows = math.ceil(num_of_images / columns)\n",
    "\n",
    "np.random.seed(seed=20)\n",
    "for i in tqdm(range(num_of_images)):\n",
    "    plt.subplot(rows, columns, i + 1)\n",
    "    plt.axis(\"off\")\n",
    "    img = generate_image(\n",
    "        sarnet_vae,\n",
    "        patch_dim,\n",
    "        image=standarized_test_data[9],\n",
    "        th=0.15,\n",
    "        pixels_seed=384,\n",
    "        latent_dim=latent_dim,\n",
    "        cust_z=torch.randn(1, latent_dim).to(\"cuda\") / 1.5,\n",
    "    )\n",
    "    generated_imgs.append(img)\n",
    "\n",
    "plt.tight_layout()\n",
    "plt.show()"
   ]
  }
 ],
 "metadata": {
  "kernelspec": {
   "display_name": "transformer_env",
   "language": "python",
   "name": "python3"
  },
  "language_info": {
   "codemirror_mode": {
    "name": "ipython",
    "version": 3
   },
   "file_extension": ".py",
   "mimetype": "text/x-python",
   "name": "python",
   "nbconvert_exporter": "python",
   "pygments_lexer": "ipython3",
   "version": "3.10.14"
  }
 },
 "nbformat": 4,
 "nbformat_minor": 2
}
